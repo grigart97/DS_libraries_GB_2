{
 "cells": [
  {
   "cell_type": "markdown",
   "metadata": {},
   "source": [
    "# <center>Курсовой проект<a class=\"anchor\" id=\"course_project\"></a><center>"
   ]
  },
  {
   "cell_type": "markdown",
   "metadata": {},
   "source": [
    "**Задача**  \n",
    "Требуется, на основании имеющихся данных о клиентах банка, построить модель, используя обучающий датасет, для прогнозирования невыполнения долговых обязательств по текущему кредиту. Выполнить прогноз для примеров из тестового датасета.\n",
    "\n",
    "**Целевая переменная**  \n",
    "Credit Default - факт невыполнения кредитных обязательств\n",
    "\n",
    "**Метрика качества**  \n",
    "F1-score (sklearn.metrics.f1_score)\n",
    "\n",
    "**Требования к решению**  \n",
    "*Целевая метрика*\n",
    "* F1 > 0.5\n",
    "* Метрика оценивается по качеству прогноза для главного класса (1 - просрочка по кредиту)\n",
    "\n",
    "**Решение должно содержать**  \n",
    "1. Тетрадка Jupyter Notebook с кодом Вашего решения\n",
    "2. Укажите свой ник на kaggle\n",
    "\n",
    "**Рекомендации для файла с кодом (ipynb)**  \n",
    "1. Файл должен содержать заголовки и комментарии (markdown)\n",
    "2. Повторяющиеся операции лучше оформлять в виде функций\n",
    "3. Не делать вывод большого количества строк таблиц (5-10 достаточно)\n",
    "4. По возможности добавлять графики, описывающие данные (около 3-5)\n",
    "5. Добавлять только лучшую модель, то есть не включать в код все варианты решения проекта\n",
    "6. Скрипт проекта должен отрабатывать от начала и до конца (от загрузки данных до выгрузки предсказаний)\n",
    "7. Весь проект должен быть в одном скрипте (файл ipynb).\n",
    "8. Допускается применение библиотек Python и моделей машинного обучения, которые были в данном курсе.\n",
    "\n",
    "**Сроки сдачи**  \n",
    "Cдать проект нужно в течение 7 дней после окончания последнего вебинара."
   ]
  },
  {
   "cell_type": "markdown",
   "metadata": {},
   "source": [
    "## <center>Содержание проекта<center>  \n",
    "\n",
    "1. [Подготовительные работы](#prepare)\n",
    "2. [Обзор обучающего датасета](#data_review)\n",
    "3. [Обработка выбросов](#blowout_treatment)\n",
    "3. [Обработка пропусков](#passes)\n",
    "4. [Анализ данных](#data_analisys)\n",
    "5. [Отбор признаков](#feat_choice)\n",
    "6. [Выбор наилучшей модели, настройка гиперпараметров](#settings)"
   ]
  },
  {
   "cell_type": "markdown",
   "metadata": {},
   "source": [
    "## <center>Подготовительные работы<a class='anchor' id='prepare'></a><center>"
   ]
  },
  {
   "cell_type": "markdown",
   "metadata": {},
   "source": [
    "### Подключение библиотек"
   ]
  },
  {
   "cell_type": "code",
   "execution_count": 1,
   "metadata": {},
   "outputs": [],
   "source": [
    "import numpy as np\n",
    "import pandas as pd\n",
    "import statistics\n",
    "import pickle\n",
    "from pathlib import Path\n",
    "\n",
    "import random\n",
    "\n",
    "from sklearn.linear_model import LinearRegression, LogisticRegression\n",
    "from sklearn.model_selection import train_test_split, KFold, GridSearchCV, StratifiedKFold, RandomizedSearchCV, learning_curve\n",
    "from sklearn.metrics import classification_report, f1_score, precision_score, recall_score, r2_score\n",
    "from sklearn.preprocessing import MinMaxScaler\n",
    "from sklearn.svm import SVC\n",
    "import catboost as catb\n",
    "\n",
    "import matplotlib.pyplot as plt\n",
    "import seaborn as sns\n",
    "\n",
    "from scipy.stats import mannwhitneyu\n",
    "\n",
    "import warnings\n",
    "warnings.filterwarnings('ignore')"
   ]
  },
  {
   "cell_type": "markdown",
   "metadata": {},
   "source": [
    "### Используемые функции"
   ]
  },
  {
   "cell_type": "code",
   "execution_count": 2,
   "metadata": {},
   "outputs": [],
   "source": [
    "def reduce_mem_usage(df):\n",
    "    \"\"\" iterate through all the columns of a dataframe and modify the data type\n",
    "        to reduce memory usage.        \n",
    "    \"\"\"\n",
    "    start_mem = df.memory_usage().sum() / 1024**2\n",
    "    print('Memory usage of dataframe is {:.2f} MB'.format(start_mem))\n",
    "    \n",
    "    for col in df.columns:\n",
    "        col_type = df[col].dtype\n",
    "        \n",
    "        if col_type != object:\n",
    "            c_min = df[col].min()\n",
    "            c_max = df[col].max()\n",
    "            if str(col_type)[:3] == 'int':\n",
    "                if c_min > np.iinfo(np.int8).min and c_max < np.iinfo(np.int8).max:\n",
    "                    df[col] = df[col].astype(np.int8)\n",
    "                elif c_min > np.iinfo(np.int16).min and c_max < np.iinfo(np.int16).max:\n",
    "                    df[col] = df[col].astype(np.int16)\n",
    "                elif c_min > np.iinfo(np.int32).min and c_max < np.iinfo(np.int32).max:\n",
    "                    df[col] = df[col].astype(np.int32)\n",
    "                elif c_min > np.iinfo(np.int64).min and c_max < np.iinfo(np.int64).max:\n",
    "                    df[col] = df[col].astype(np.int64)  \n",
    "            elif c_max == 1 and c_min == 0:\n",
    "                df[col] = df[col].astype(np.int8)\n",
    "            else:\n",
    "                if c_min > np.finfo(np.float32).min and c_max < np.finfo(np.float32).max:\n",
    "                    df[col] = df[col].astype(np.float32)\n",
    "                else:\n",
    "                    df[col] = df[col].astype(np.float64)\n",
    "        else:\n",
    "            df[col] = df[col].astype('category')\n",
    "\n",
    "    end_mem = df.memory_usage().sum() / 1024**2\n",
    "    print('Memory usage after optimization is: {:.2f} MB'.format(end_mem))\n",
    "    print('Decreased by {:.1f}%'.format(100 * (start_mem - end_mem) / start_mem))"
   ]
  },
  {
   "cell_type": "code",
   "execution_count": 3,
   "metadata": {},
   "outputs": [],
   "source": [
    "def reduct_feature(train, test, feat, to_reduct, changing):\n",
    "    \"\"\"\n",
    "    Сокращение значений признака в тренировочной и тестовой выборках.\n",
    "    \n",
    "    Возвращает измененные тренировочный и тестовый датафрейма.\n",
    "    \n",
    "    train - тренировчный датафрейм\n",
    "    test - тестовый датафрейм\n",
    "    feat - признак, который необходимо сократить\n",
    "    to_change - значения признака, которые необходимо сократить\n",
    "    changing - значение признака, в которое необходимо преобразовать\n",
    "    \"\"\"\n",
    "    train.loc[train[feat].isin(to_reduct), feat] = changing\n",
    "    test.loc[test[feat].isin(to_reduct), feat] = changing\n",
    "    return train, test"
   ]
  },
  {
   "cell_type": "code",
   "execution_count": 4,
   "metadata": {},
   "outputs": [],
   "source": [
    "def drop_blowout(train, test, feat, min_q=.025, max_q=.975):  \n",
    "    \"\"\" \n",
    "    Избавляет от выбросов в тренировочной и тестовой выборках методом clip.\n",
    "    \n",
    "    Возвращает измененные тренировочный и тестовый датафрейма.\n",
    "    \n",
    "    train - тренировочная выборка\n",
    "    test - тестовая выборка\n",
    "    feat - название признака\n",
    "    min_q - минимальный квантиль\n",
    "    min_q - максимальный квантиль\n",
    "    \"\"\"\n",
    "    train[feat] = np.clip(a=train[feat].dropna(),\n",
    "                          a_min=train[feat].quantile(min_q),\n",
    "                          a_max=train[feat].quantile(max_q)\n",
    "    )\n",
    "    test[feat] = np.clip(a=train[feat].dropna(),\n",
    "                         a_min=train[feat].quantile(min_q),\n",
    "                         a_max=train[feat].quantile(max_q)\n",
    "    )"
   ]
  },
  {
   "cell_type": "code",
   "execution_count": 5,
   "metadata": {},
   "outputs": [],
   "source": [
    "def evaluate_linear_preds(train_true_values, train_pred_values, test_true_values, test_pred_values):\n",
    "    \"\"\"\n",
    "    Оценка качества модели по R2 и постройка графиковграфик preds vs true\n",
    "    \n",
    "    train_true_values - Целевые значения предсказания выборки train\n",
    "    train_pred_values - Предсказанные значения выборки train\n",
    "    test_true_values - Целевые значения предсказания выборки test\n",
    "    test_pred_values - Предсказанные значения выборки test\n",
    "    \n",
    "    \"\"\"\n",
    "    \n",
    "    print('R2_train:\\t' + str(round(r2_score(train_true_values, train_pred_values), 3)) + '\\n'\n",
    "          'R2_test:\\t' + str(round(r2_score(test_true_values, test_pred_values), 3))\n",
    "         )\n",
    "    \n",
    "    fig, ax = plt.subplots(nrows=1, ncols=2)\n",
    "    fig.set_size_inches(16, 8)\n",
    "    ax1, ax2 = ax.flatten()\n",
    "    \n",
    "    ax1.scatter(x=train_pred_values, y=train_true_values)\n",
    "    ax1.plot([0, train_true_values.max()], [0, train_true_values.max()], color='black')  # целевая диагональ, где true_values = pred_values\n",
    "    ax1.set_xlim(0, train_true_values.max())\n",
    "    ax1.set_ylim(0, train_true_values.max())\n",
    "    ax1.set_xlabel('Predicted values', size=14)\n",
    "    ax1.set_ylabel('True values', size=14)\n",
    "    ax1.set_title('Train True vs Predicted values', size=20)\n",
    "    \n",
    "    ax2.scatter(x=test_pred_values, y=test_true_values)\n",
    "    ax2.plot([0, test_true_values.max()], [0, test_true_values.max()], color='black')  # целевая диагональ\n",
    "    ax2.set_xlim(0, test_true_values.max())\n",
    "    ax2.set_ylim(0, test_true_values.max())\n",
    "    ax2.set_xlabel('Predicted values', size=14)\n",
    "    ax2.set_ylabel('True values', size=14)\n",
    "    ax2.set_title('Test True vs Predicted values', size=20)"
   ]
  },
  {
   "cell_type": "code",
   "execution_count": 6,
   "metadata": {},
   "outputs": [],
   "source": [
    "def get_classification_report(y_train_true, y_train_pred, y_test_true, y_test_pred):\n",
    "    print('TRAIN\\n\\n' + classification_report(y_train_true, y_train_pred))\n",
    "    print('TEST\\n\\n' + classification_report(y_test_true, y_test_pred))\n",
    "    print('CONFUSION MATRIX\\n')\n",
    "    print(pd.crosstab(y_test_true, y_test_pred))"
   ]
  },
  {
   "cell_type": "code",
   "execution_count": 7,
   "metadata": {},
   "outputs": [],
   "source": [
    "def evaluate_preds(model, X_train, X_test, y_train, y_test):\n",
    "    y_train_pred = model.predict(X_train)\n",
    "    y_test_pred = model.predict(X_test)\n",
    "\n",
    "    get_classification_report(y_train, y_train_pred, y_test, y_test_pred)"
   ]
  },
  {
   "cell_type": "code",
   "execution_count": 8,
   "metadata": {},
   "outputs": [],
   "source": [
    "def generate_ratio_to_income(feats):\n",
    "    '''\n",
    "    Функция создаёт новые признаки на тестовой и тренировочной выборках, находя отношения каждого выбранного признака\n",
    "    к признаку Annual Income\n",
    "    \n",
    "    train - тренировочный датасет\n",
    "    test - тестовый датасет\n",
    "    feats - список признаков\n",
    "    '''\n",
    "    for feat in feats:\n",
    "        df[f'ratio_{feat}_to_income'] = df[feat] / df['Annual Income']\n",
    "        df_test[f'ratio_{feat}_to_income'] = df_test[feat] / df_test['Annual Income']"
   ]
  },
  {
   "cell_type": "code",
   "execution_count": 9,
   "metadata": {},
   "outputs": [],
   "source": [
    "def show_learning_curve_plot(estimator, X, y, cv=3, n_jobs=-1, train_sizes=np.linspace(.1, 1.0, 10)):\n",
    "\n",
    "    train_sizes, train_scores, test_scores = learning_curve(estimator, X, y, \n",
    "                                                            cv=cv, \n",
    "                                                            scoring='f1',\n",
    "                                                            train_sizes=train_sizes, \n",
    "                                                            n_jobs=n_jobs)\n",
    "    train_scores_mean = np.mean(train_scores, axis=1)\n",
    "    train_scores_std = np.std(train_scores, axis=1)\n",
    "    test_scores_mean = np.mean(test_scores, axis=1)\n",
    "    test_scores_std = np.std(test_scores, axis=1)\n",
    "\n",
    "    plt.figure(figsize=(16,8))\n",
    "    plt.fill_between(train_sizes, train_scores_mean - train_scores_std,\n",
    "                     train_scores_mean + train_scores_std, alpha=0.1, color=\"r\")\n",
    "    plt.fill_between(train_sizes, test_scores_mean - test_scores_std,\n",
    "                     test_scores_mean + test_scores_std, alpha=0.1, color=\"g\")\n",
    "    plt.plot(train_sizes, train_scores_mean, 'o-', color=\"r\",\n",
    "             label=\"Training score\")\n",
    "    plt.plot(train_sizes, test_scores_mean, 'o-', color=\"g\",\n",
    "             label=\"Cross-validation score\")\n",
    "\n",
    "    plt.title(f\"Learning curves ({type(estimator).__name__})\")\n",
    "    plt.xlabel(\"Training examples\")\n",
    "    plt.ylabel(\"Score\")     \n",
    "    plt.legend(loc=\"best\")\n",
    "    plt.grid()\n",
    "    plt.show()"
   ]
  },
  {
   "cell_type": "code",
   "execution_count": 90,
   "metadata": {},
   "outputs": [],
   "source": [
    "def balance_df_by_target(df, target_name, method='over'):\n",
    "\n",
    "    assert method in ['over', 'under', 'tomek', 'smote'], 'Неверный метод сэмплирования'\n",
    "    \n",
    "    target_counts = df[target_name].value_counts()\n",
    "\n",
    "    major_class_name = target_counts.argmax()\n",
    "    minor_class_name = target_counts.argmin()\n",
    "\n",
    "    disbalance_coeff = int(target_counts[major_class_name] / target_counts[minor_class_name]) - 1\n",
    "    if method == 'over':\n",
    "        for i in range(disbalance_coeff):\n",
    "            sample = df[df[target_name] == minor_class_name].sample(target_counts[minor_class_name])\n",
    "            df = df.append(sample, ignore_index=True)\n",
    "            \n",
    "    elif method == 'under':\n",
    "        df_ = df.copy()\n",
    "        df = df_[df_[target_name] == minor_class_name]\n",
    "        tmp = df_[df_[target_name] == major_class_name]\n",
    "        df = df.append(tmp.iloc[\n",
    "            np.random.randint(0, tmp.shape[0], target_counts[minor_class_name])\n",
    "        ], ignore_index=True)\n",
    "\n",
    "    elif method == 'tomek':\n",
    "        from imblearn.under_sampling import TomekLinks\n",
    "        tl = TomekLinks()\n",
    "        X_tomek, y_tomek = tl.fit_sample(df.drop(columns=target_name), df[target_name])\n",
    "        df = pd.concat([X_tomek, y_tomek], axis=1)\n",
    "    \n",
    "    elif method == 'smote':\n",
    "        from imblearn.over_sampling import SMOTE\n",
    "        smote = SMOTE()\n",
    "        X_smote, y_smote = smote.fit_resample(df.drop(columns=target_name), df[target_name])\n",
    "        df = pd.concat([X_smote, y_smote], axis=1)\n",
    "\n",
    "    return df.sample(frac=1) "
   ]
  },
  {
   "cell_type": "markdown",
   "metadata": {},
   "source": [
    "### Пути к датасетам"
   ]
  },
  {
   "cell_type": "code",
   "execution_count": 11,
   "metadata": {},
   "outputs": [],
   "source": [
    "TRAIN_DATASET_PATH = './data/course_project_train.csv'\n",
    "TEST_DATASET_PATH = './data/course_project_test.csv'"
   ]
  },
  {
   "cell_type": "markdown",
   "metadata": {},
   "source": [
    "### Загрузка данных"
   ]
  },
  {
   "cell_type": "code",
   "execution_count": 12,
   "metadata": {},
   "outputs": [
    {
     "data": {
      "text/html": [
       "<div>\n",
       "<style scoped>\n",
       "    .dataframe tbody tr th:only-of-type {\n",
       "        vertical-align: middle;\n",
       "    }\n",
       "\n",
       "    .dataframe tbody tr th {\n",
       "        vertical-align: top;\n",
       "    }\n",
       "\n",
       "    .dataframe thead th {\n",
       "        text-align: right;\n",
       "    }\n",
       "</style>\n",
       "<table border=\"1\" class=\"dataframe\">\n",
       "  <thead>\n",
       "    <tr style=\"text-align: right;\">\n",
       "      <th></th>\n",
       "      <th>Home Ownership</th>\n",
       "      <th>Annual Income</th>\n",
       "      <th>Years in current job</th>\n",
       "      <th>Tax Liens</th>\n",
       "      <th>Number of Open Accounts</th>\n",
       "      <th>Years of Credit History</th>\n",
       "      <th>Maximum Open Credit</th>\n",
       "      <th>Number of Credit Problems</th>\n",
       "      <th>Months since last delinquent</th>\n",
       "      <th>Bankruptcies</th>\n",
       "      <th>Purpose</th>\n",
       "      <th>Term</th>\n",
       "      <th>Current Loan Amount</th>\n",
       "      <th>Current Credit Balance</th>\n",
       "      <th>Monthly Debt</th>\n",
       "      <th>Credit Score</th>\n",
       "      <th>Credit Default</th>\n",
       "    </tr>\n",
       "  </thead>\n",
       "  <tbody>\n",
       "    <tr>\n",
       "      <th>0</th>\n",
       "      <td>Own Home</td>\n",
       "      <td>482087.0</td>\n",
       "      <td>NaN</td>\n",
       "      <td>0.0</td>\n",
       "      <td>11.0</td>\n",
       "      <td>26.3</td>\n",
       "      <td>685960.0</td>\n",
       "      <td>1.0</td>\n",
       "      <td>NaN</td>\n",
       "      <td>1.0</td>\n",
       "      <td>debt consolidation</td>\n",
       "      <td>Short Term</td>\n",
       "      <td>99999999.0</td>\n",
       "      <td>47386.0</td>\n",
       "      <td>7914.0</td>\n",
       "      <td>749.0</td>\n",
       "      <td>0</td>\n",
       "    </tr>\n",
       "    <tr>\n",
       "      <th>1</th>\n",
       "      <td>Own Home</td>\n",
       "      <td>1025487.0</td>\n",
       "      <td>10+ years</td>\n",
       "      <td>0.0</td>\n",
       "      <td>15.0</td>\n",
       "      <td>15.3</td>\n",
       "      <td>1181730.0</td>\n",
       "      <td>0.0</td>\n",
       "      <td>NaN</td>\n",
       "      <td>0.0</td>\n",
       "      <td>debt consolidation</td>\n",
       "      <td>Long Term</td>\n",
       "      <td>264968.0</td>\n",
       "      <td>394972.0</td>\n",
       "      <td>18373.0</td>\n",
       "      <td>737.0</td>\n",
       "      <td>1</td>\n",
       "    </tr>\n",
       "    <tr>\n",
       "      <th>2</th>\n",
       "      <td>Home Mortgage</td>\n",
       "      <td>751412.0</td>\n",
       "      <td>8 years</td>\n",
       "      <td>0.0</td>\n",
       "      <td>11.0</td>\n",
       "      <td>35.0</td>\n",
       "      <td>1182434.0</td>\n",
       "      <td>0.0</td>\n",
       "      <td>NaN</td>\n",
       "      <td>0.0</td>\n",
       "      <td>debt consolidation</td>\n",
       "      <td>Short Term</td>\n",
       "      <td>99999999.0</td>\n",
       "      <td>308389.0</td>\n",
       "      <td>13651.0</td>\n",
       "      <td>742.0</td>\n",
       "      <td>0</td>\n",
       "    </tr>\n",
       "  </tbody>\n",
       "</table>\n",
       "</div>"
      ],
      "text/plain": [
       "  Home Ownership  Annual Income Years in current job  Tax Liens  \\\n",
       "0       Own Home       482087.0                  NaN        0.0   \n",
       "1       Own Home      1025487.0            10+ years        0.0   \n",
       "2  Home Mortgage       751412.0              8 years        0.0   \n",
       "\n",
       "   Number of Open Accounts  Years of Credit History  Maximum Open Credit  \\\n",
       "0                     11.0                     26.3             685960.0   \n",
       "1                     15.0                     15.3            1181730.0   \n",
       "2                     11.0                     35.0            1182434.0   \n",
       "\n",
       "   Number of Credit Problems  Months since last delinquent  Bankruptcies  \\\n",
       "0                        1.0                           NaN           1.0   \n",
       "1                        0.0                           NaN           0.0   \n",
       "2                        0.0                           NaN           0.0   \n",
       "\n",
       "              Purpose        Term  Current Loan Amount  \\\n",
       "0  debt consolidation  Short Term           99999999.0   \n",
       "1  debt consolidation   Long Term             264968.0   \n",
       "2  debt consolidation  Short Term           99999999.0   \n",
       "\n",
       "   Current Credit Balance  Monthly Debt  Credit Score  Credit Default  \n",
       "0                 47386.0        7914.0         749.0               0  \n",
       "1                394972.0       18373.0         737.0               1  \n",
       "2                308389.0       13651.0         742.0               0  "
      ]
     },
     "execution_count": 12,
     "metadata": {},
     "output_type": "execute_result"
    }
   ],
   "source": [
    "df = pd.read_csv(TRAIN_DATASET_PATH, sep=',')\n",
    "df_test = pd.read_csv(TEST_DATASET_PATH, sep=',')\n",
    "df.head(3)"
   ]
  },
  {
   "cell_type": "markdown",
   "metadata": {},
   "source": [
    "## <center>Обзор обучающего датасета<a class='anchor' id='data_review'></a><center>"
   ]
  },
  {
   "cell_type": "markdown",
   "metadata": {},
   "source": [
    "### Описание датасета\n",
    "* **Home Ownership** - домовладение\n",
    "* **Annual Income** - годовой доход\n",
    "* **Years in current job** - количество лет на текущем месте работы\n",
    "* **Tax Liens** - налоговые обременения\n",
    "* **Number of Open Accounts** - количество открытых счетов\n",
    "* **Years of Credit History** - количество лет кредитной истории\n",
    "* **Maximum Open Credit** - наибольший открытый кредит\n",
    "* **Number of Credit Problems** - количество проблем с кредитом\n",
    "* **Months since last delinquent** - количество месяцев с последней просрочки платежа\n",
    "* **Bankruptcies** - банкротства\n",
    "* **Purpose** - цель кредита\n",
    "* **Term** - срок кредита\n",
    "* **Current Loan Amount** - текущая сумма кредита\n",
    "* **Current Credit Balance** - текущий кредитный баланс\n",
    "* **Monthly Debt** - ежемесячный долг\n",
    "* **Credit Score** - баллы кредитного рейтинга\n",
    "* **Credit Default** - факт невыполнения кредитных обязательств (0 - погашен вовремя, 1 - просрочка)"
   ]
  },
  {
   "cell_type": "code",
   "execution_count": 13,
   "metadata": {},
   "outputs": [
    {
     "name": "stdout",
     "output_type": "stream",
     "text": [
      "<class 'pandas.core.frame.DataFrame'>\n",
      "RangeIndex: 7500 entries, 0 to 7499\n",
      "Data columns (total 17 columns):\n",
      " #   Column                        Non-Null Count  Dtype  \n",
      "---  ------                        --------------  -----  \n",
      " 0   Home Ownership                7500 non-null   object \n",
      " 1   Annual Income                 5943 non-null   float64\n",
      " 2   Years in current job          7129 non-null   object \n",
      " 3   Tax Liens                     7500 non-null   float64\n",
      " 4   Number of Open Accounts       7500 non-null   float64\n",
      " 5   Years of Credit History       7500 non-null   float64\n",
      " 6   Maximum Open Credit           7500 non-null   float64\n",
      " 7   Number of Credit Problems     7500 non-null   float64\n",
      " 8   Months since last delinquent  3419 non-null   float64\n",
      " 9   Bankruptcies                  7486 non-null   float64\n",
      " 10  Purpose                       7500 non-null   object \n",
      " 11  Term                          7500 non-null   object \n",
      " 12  Current Loan Amount           7500 non-null   float64\n",
      " 13  Current Credit Balance        7500 non-null   float64\n",
      " 14  Monthly Debt                  7500 non-null   float64\n",
      " 15  Credit Score                  5943 non-null   float64\n",
      " 16  Credit Default                7500 non-null   int64  \n",
      "dtypes: float64(12), int64(1), object(4)\n",
      "memory usage: 996.2+ KB\n"
     ]
    }
   ],
   "source": [
    "df.info()"
   ]
  },
  {
   "cell_type": "markdown",
   "metadata": {},
   "source": [
    "Из краткого резюме видно, что датасет имеет 7500 строк (наблюдений) и 17 столбцов (признаков) (12 вещественных, 1 целочисленный, 4 строковых).  \n",
    "Остановимся поподробнее на строковых признаках\n",
    "**Years in current job** - зачем-то указывается не количество лет, а с препиской _'year'_. Необходимо оставить только числа\n",
    "**Purpose** - цель кредита. Легче всего преобразовать в dummy-переменные. Возможно есть более лаконичный способ (узнаем, когда будем более детально анализировать данные\n",
    "**Term** - Также легче преобразовать в dummy_переменные, но будет ясно в процессе анализа."
   ]
  },
  {
   "cell_type": "markdown",
   "metadata": {},
   "source": [
    "Признаки **Annula Income**, **Months since last delinquent**, **Purpose** и **Credit Score** имеют пропуски в около 15, 55, 0.5, 15 процентах случаев соответственно. Необходимо их заполнить. Возможно пропуски в признаке **Months since last delinquent** означают, что пользователь ни разу не допускал просрочку платежа, поэтому имеется так много пропусков."
   ]
  },
  {
   "cell_type": "code",
   "execution_count": 14,
   "metadata": {},
   "outputs": [],
   "source": [
    "TARGET = 'Credit Default'\n",
    "BASE_FEAT = df.columns.drop(TARGET).tolist()\n",
    "OBJ_FEAT = ['Home Ownership', 'Years in current job','Purpose', 'Term']\n",
    "NUM_FEAT = ['Annual Income', 'Tax Liens', 'Number of Open Accounts', 'Years of Credit History', \n",
    "            'Maximum Open Credit', 'Number of Credit Problems', 'Months since last delinquent', \n",
    "            'Bankruptcies', 'Current Loan Amount', 'Current Credit Balance', 'Monthly Debt', 'Credit Score']"
   ]
  },
  {
   "cell_type": "code",
   "execution_count": 15,
   "metadata": {},
   "outputs": [
    {
     "data": {
      "text/plain": [
       "0    5387\n",
       "1    2113\n",
       "Name: Credit Default, dtype: int64"
      ]
     },
     "execution_count": 15,
     "metadata": {},
     "output_type": "execute_result"
    }
   ],
   "source": [
    "df[TARGET].value_counts()"
   ]
  },
  {
   "cell_type": "markdown",
   "metadata": {},
   "source": [
    "Распределение целевой переменной не равномерное, необходимо учитывать этот факт при разбиении выборки на тренировочную и тестовую."
   ]
  },
  {
   "cell_type": "code",
   "execution_count": 16,
   "metadata": {},
   "outputs": [
    {
     "data": {
      "text/plain": [
       "Credit Score                    0.442050\n",
       "Number of Open Accounts         0.028884\n",
       "Tax Liens                       0.024368\n",
       "Number of Credit Problems       0.020088\n",
       "Monthly Debt                    0.018480\n",
       "Months since last delinquent    0.002598\n",
       "Bankruptcies                    0.001648\n",
       "Maximum Open Credit            -0.014275\n",
       "Current Credit Balance         -0.019522\n",
       "Years of Credit History        -0.020567\n",
       "Annual Income                  -0.101375\n",
       "Current Loan Amount            -0.226522\n",
       "Name: Credit Default, dtype: float64"
      ]
     },
     "execution_count": 16,
     "metadata": {},
     "output_type": "execute_result"
    }
   ],
   "source": [
    "df[BASE_FEAT + [TARGET]].corr().iloc[:-1, -1].sort_values(ascending=False)"
   ]
  },
  {
   "cell_type": "code",
   "execution_count": 17,
   "metadata": {},
   "outputs": [
    {
     "data": {
      "image/png": "[encoded data removed]",
      "text/plain": [
       "<Figure size 1152x576 with 1 Axes>"
      ]
     },
     "metadata": {
      "needs_background": "light"
     },
     "output_type": "display_data"
    }
   ],
   "source": [
    "corr_with_target = df[BASE_FEAT + [TARGET]].corr().iloc[:-1, -1].sort_values(ascending=False)\n",
    "\n",
    "plt.figure(figsize=(16, 8))\n",
    "\n",
    "sns.barplot(x=corr_with_target.values, y=corr_with_target.index)\n",
    "\n",
    "plt.title('Correlation with target variable')\n",
    "plt.xticks(np.arange(-0.3, 0.5, step=0.025), rotation=45)\n",
    "plt.grid(axis='x')\n",
    "plt.show()"
   ]
  },
  {
   "cell_type": "markdown",
   "metadata": {},
   "source": [
    "### Распределение вещественных признаков"
   ]
  },
  {
   "cell_type": "code",
   "execution_count": 18,
   "metadata": {
    "scrolled": true
   },
   "outputs": [
    {
     "data": {
      "image/png": "[encoded data removed]",
      "text/plain": [
       "<Figure size 1152x1296 with 12 Axes>"
      ]
     },
     "metadata": {
      "needs_background": "light"
     },
     "output_type": "display_data"
    }
   ],
   "source": [
    "fig, ax = plt.subplots(ncols=2, nrows=6)\n",
    "fig.set_size_inches(16, 18)\n",
    "fig.subplots_adjust(hspace=0.5)\n",
    "\n",
    "for col in range(len(NUM_FEAT)):\n",
    "    plt.subplot(ax.flatten()[col])\n",
    "    sns.kdeplot(df[NUM_FEAT[col]], shade=True, label='train', color='r')\n",
    "    sns.kdeplot(df_test[NUM_FEAT[col]], shade=True, label='test', color='c')\n",
    "    plt.legend()\n",
    "    plt.title(f'{NUM_FEAT[col]} (pvalue - {mannwhitneyu(df[NUM_FEAT[col]], df_test[NUM_FEAT[col]]).pvalue.round(5)})')\n",
    "plt.show()"
   ]
  },
  {
   "cell_type": "markdown",
   "metadata": {},
   "source": [
    "Судя по уровню значимости _критерия Манна-Уитни_, вещественные признаки **Months since last delinquent** & **Bankruptсies** не достаточно хорошо совпадают, поэтому, возможно, стоит отбросить их и не использовать в обучении, тем более, что в признаке **Months since last delinquent** пропущено более 50% значений, а признак **Bankruptсies** имеет малое влияние на целевую переменную"
   ]
  },
  {
   "cell_type": "code",
   "execution_count": 19,
   "metadata": {},
   "outputs": [],
   "source": [
    "to_del = ['Months since last delinquent', 'Bankruptcies']"
   ]
  },
  {
   "cell_type": "markdown",
   "metadata": {},
   "source": [
    "### Распределение категориальных признаков"
   ]
  },
  {
   "cell_type": "code",
   "execution_count": 20,
   "metadata": {},
   "outputs": [
    {
     "name": "stdout",
     "output_type": "stream",
     "text": [
      "Credit Score\n"
     ]
    },
    {
     "data": {
      "image/png": "[encoded data removed]",
      "text/plain": [
       "<Figure size 1152x576 with 4 Axes>"
      ]
     },
     "metadata": {
      "needs_background": "light"
     },
     "output_type": "display_data"
    }
   ],
   "source": [
    "fig, ax = plt.subplots(ncols=2, nrows=2)\n",
    "fig.set_size_inches(16, 8)\n",
    "fig.subplots_adjust(hspace=0.8)\n",
    "num_feature = 'Credit Score'\n",
    "\n",
    "for col in range(len(OBJ_FEAT)):\n",
    "    plt.subplot(ax.flatten()[col])\n",
    "    sns.pointplot(x=OBJ_FEAT[col], y=num_feature, data=df, capsize=.1, label='train', color='r')\n",
    "    sns.pointplot(x=OBJ_FEAT[col], y=num_feature, data=df_test, capsize=.1, label='test', color='c')\n",
    "    plt.title(OBJ_FEAT[col])\n",
    "    plt.xticks(rotation=90)\n",
    "    plt.xlabel('')\n",
    "print(num_feature)\n",
    "plt.show()"
   ]
  },
  {
   "cell_type": "code",
   "execution_count": 21,
   "metadata": {},
   "outputs": [
    {
     "name": "stdout",
     "output_type": "stream",
     "text": [
      "Annual Income\n"
     ]
    },
    {
     "data": {
      "image/png": "[encoded data removed]",
      "text/plain": [
       "<Figure size 1152x576 with 4 Axes>"
      ]
     },
     "metadata": {
      "needs_background": "light"
     },
     "output_type": "display_data"
    }
   ],
   "source": [
    "fig, ax = plt.subplots(ncols=2, nrows=2)\n",
    "fig.set_size_inches(16, 8)\n",
    "fig.subplots_adjust(hspace=0.8)\n",
    "num_feature = 'Annual Income'\n",
    "\n",
    "for col in range(len(OBJ_FEAT)):\n",
    "    plt.subplot(ax.flatten()[col])\n",
    "    sns.pointplot(x=OBJ_FEAT[col], y=num_feature, data=df, capsize=.1, label='train', color='r')\n",
    "    sns.pointplot(x=OBJ_FEAT[col], y=num_feature, data=df_test, capsize=.1, label='test', color='c')\n",
    "    plt.title(OBJ_FEAT[col])\n",
    "    plt.xticks(rotation=90)\n",
    "    plt.xlabel('')\n",
    "print(num_feature)\n",
    "plt.show()"
   ]
  },
  {
   "cell_type": "markdown",
   "metadata": {},
   "source": [
    "Исходя из полученных графиков, нельзя с уверенностью сказать, что какие-то категиориальные признаки можно смело выбросить, потому что в большинстве своём они имеют схожее математическое ожидание. Сильные отклонения можно списать на выбросы и пропущенные значения."
   ]
  },
  {
   "cell_type": "markdown",
   "metadata": {},
   "source": [
    "### Сокращение количество значений в признаке"
   ]
  },
  {
   "cell_type": "code",
   "execution_count": 22,
   "metadata": {},
   "outputs": [
    {
     "data": {
      "image/png": "[encoded data removed]",
      "text/plain": [
       "<Figure size 1152x288 with 3 Axes>"
      ]
     },
     "metadata": {
      "needs_background": "light"
     },
     "output_type": "display_data"
    }
   ],
   "source": [
    "fig, ax = plt.subplots(ncols=3, nrows=1)\n",
    "fig.set_size_inches(16, 4)\n",
    "fig.subplots_adjust(wspace=0.2)\n",
    "feat_to_reduction = ['Home Ownership', 'Years in current job', 'Purpose']\n",
    "\n",
    "for i, col in enumerate(feat_to_reduction):\n",
    "    plt.subplot(ax.flatten()[i])\n",
    "    sns.pointplot(x=col, y=TARGET, data=df, capsize=.1, label='train', color='k')\n",
    "    plt.title(col, size=20)\n",
    "    plt.xticks(rotation=90)\n",
    "    plt.xlabel('')\n",
    "    plt.grid(axis='y')\n",
    "plt.show()"
   ]
  },
  {
   "cell_type": "markdown",
   "metadata": {},
   "source": [
    "Признак **Home Ownership** можно сократить, объединив значения _Own Home_ и _Rent_.  \n",
    "Признак **Years in current job** можно сократить, объединив по группам следующие значения:\n",
    "* _<1 year_ и _1 year_ -> _1 year_ (не объединяем с _5 years_ так как может быть нарушена бизнес-логика)\n",
    "* _2 years_ и _3 years_ -> 2-3 years (не объединяем с _8 years_ так как может быть нарушена бизнес-логика)\n",
    "* _4 years_ и _5 years_ -> 4-5 years\n",
    "Признак **Purpose** можно сократить, объединив по группам следующие значения:\n",
    "* _debt consolidation_, _other_ и _home improvement_ -> _other_\n",
    "* _take a trip_, _buy a car_, _buy house_, _medical bills_ и _major purchase_ -> _major purchase_\n",
    "* _vacation_ и _wedding_ -> _vacation/wedding_"
   ]
  },
  {
   "cell_type": "code",
   "execution_count": 23,
   "metadata": {},
   "outputs": [],
   "source": [
    "df, df_test = reduct_feature(df, df_test, feat='Home Ownership', to_reduct=['Own Home', 'Rent'], changing='Own Home/Rent')\n",
    "df, df_test = reduct_feature(df, df_test, feat='Years in current job', to_reduct=['<1 year', '1 year'], changing='1 year')\n",
    "df, df_test = reduct_feature(df, df_test, feat='Years in current job', to_reduct=['2 years', '3 years'], changing='2-3 year')\n",
    "df, df_test = reduct_feature(df, df_test, feat='Years in current job', to_reduct=['4 years', '5 years'], changing='4-5 year')\n",
    "df, df_test = reduct_feature(df, df_test, feat='Purpose', \n",
    "                             to_reduct=['take a trip', 'buy a car', 'buy house', 'medical bills', 'major purchase'], \n",
    "                             changing='major purchase')\n",
    "df, df_test = reduct_feature(df, df_test, feat='Purpose', \n",
    "                             to_reduct=['debt consolidation', 'other', 'home improvements'], \n",
    "                             changing='other')\n",
    "df, df_test = reduct_feature(df, df_test, feat='Purpose', \n",
    "                             to_reduct=['vacation', 'wedding'], \n",
    "                             changing='vacation/wedding')"
   ]
  },
  {
   "cell_type": "markdown",
   "metadata": {},
   "source": [
    "## <center>Обработка выбросов<a class='anchor' id='blowout_treatment'></a><center>"
   ]
  },
  {
   "cell_type": "code",
   "execution_count": 24,
   "metadata": {},
   "outputs": [
    {
     "data": {
      "text/html": [
       "<div>\n",
       "<style scoped>\n",
       "    .dataframe tbody tr th:only-of-type {\n",
       "        vertical-align: middle;\n",
       "    }\n",
       "\n",
       "    .dataframe tbody tr th {\n",
       "        vertical-align: top;\n",
       "    }\n",
       "\n",
       "    .dataframe thead th {\n",
       "        text-align: right;\n",
       "    }\n",
       "</style>\n",
       "<table border=\"1\" class=\"dataframe\">\n",
       "  <thead>\n",
       "    <tr style=\"text-align: right;\">\n",
       "      <th></th>\n",
       "      <th>Annual Income</th>\n",
       "      <th>Tax Liens</th>\n",
       "      <th>Number of Open Accounts</th>\n",
       "      <th>Years of Credit History</th>\n",
       "      <th>Maximum Open Credit</th>\n",
       "      <th>Number of Credit Problems</th>\n",
       "      <th>Months since last delinquent</th>\n",
       "      <th>Bankruptcies</th>\n",
       "      <th>Current Loan Amount</th>\n",
       "      <th>Current Credit Balance</th>\n",
       "      <th>Monthly Debt</th>\n",
       "      <th>Credit Score</th>\n",
       "      <th>Credit Default</th>\n",
       "    </tr>\n",
       "  </thead>\n",
       "  <tbody>\n",
       "    <tr>\n",
       "      <th>count</th>\n",
       "      <td>5.943000e+03</td>\n",
       "      <td>7500.000000</td>\n",
       "      <td>7500.000000</td>\n",
       "      <td>7500.000000</td>\n",
       "      <td>7.500000e+03</td>\n",
       "      <td>7500.000000</td>\n",
       "      <td>3419.000000</td>\n",
       "      <td>7486.000000</td>\n",
       "      <td>7.500000e+03</td>\n",
       "      <td>7.500000e+03</td>\n",
       "      <td>7500.000000</td>\n",
       "      <td>5943.000000</td>\n",
       "      <td>7500.000000</td>\n",
       "    </tr>\n",
       "    <tr>\n",
       "      <th>mean</th>\n",
       "      <td>1.366392e+06</td>\n",
       "      <td>0.030133</td>\n",
       "      <td>11.130933</td>\n",
       "      <td>18.317467</td>\n",
       "      <td>9.451537e+05</td>\n",
       "      <td>0.170000</td>\n",
       "      <td>34.692600</td>\n",
       "      <td>0.117152</td>\n",
       "      <td>1.187318e+07</td>\n",
       "      <td>2.898332e+05</td>\n",
       "      <td>18314.454133</td>\n",
       "      <td>1151.087498</td>\n",
       "      <td>0.281733</td>\n",
       "    </tr>\n",
       "    <tr>\n",
       "      <th>std</th>\n",
       "      <td>8.453392e+05</td>\n",
       "      <td>0.271604</td>\n",
       "      <td>4.908924</td>\n",
       "      <td>7.041946</td>\n",
       "      <td>1.602622e+07</td>\n",
       "      <td>0.498598</td>\n",
       "      <td>21.688806</td>\n",
       "      <td>0.347192</td>\n",
       "      <td>3.192612e+07</td>\n",
       "      <td>3.178714e+05</td>\n",
       "      <td>11926.764673</td>\n",
       "      <td>1604.451418</td>\n",
       "      <td>0.449874</td>\n",
       "    </tr>\n",
       "    <tr>\n",
       "      <th>min</th>\n",
       "      <td>1.645970e+05</td>\n",
       "      <td>0.000000</td>\n",
       "      <td>2.000000</td>\n",
       "      <td>4.000000</td>\n",
       "      <td>0.000000e+00</td>\n",
       "      <td>0.000000</td>\n",
       "      <td>0.000000</td>\n",
       "      <td>0.000000</td>\n",
       "      <td>1.124200e+04</td>\n",
       "      <td>0.000000e+00</td>\n",
       "      <td>0.000000</td>\n",
       "      <td>585.000000</td>\n",
       "      <td>0.000000</td>\n",
       "    </tr>\n",
       "    <tr>\n",
       "      <th>25%</th>\n",
       "      <td>8.443410e+05</td>\n",
       "      <td>0.000000</td>\n",
       "      <td>8.000000</td>\n",
       "      <td>13.500000</td>\n",
       "      <td>2.792295e+05</td>\n",
       "      <td>0.000000</td>\n",
       "      <td>16.000000</td>\n",
       "      <td>0.000000</td>\n",
       "      <td>1.801690e+05</td>\n",
       "      <td>1.142565e+05</td>\n",
       "      <td>10067.500000</td>\n",
       "      <td>711.000000</td>\n",
       "      <td>0.000000</td>\n",
       "    </tr>\n",
       "    <tr>\n",
       "      <th>50%</th>\n",
       "      <td>1.168386e+06</td>\n",
       "      <td>0.000000</td>\n",
       "      <td>10.000000</td>\n",
       "      <td>17.000000</td>\n",
       "      <td>4.781590e+05</td>\n",
       "      <td>0.000000</td>\n",
       "      <td>32.000000</td>\n",
       "      <td>0.000000</td>\n",
       "      <td>3.095730e+05</td>\n",
       "      <td>2.093230e+05</td>\n",
       "      <td>16076.500000</td>\n",
       "      <td>731.000000</td>\n",
       "      <td>0.000000</td>\n",
       "    </tr>\n",
       "    <tr>\n",
       "      <th>75%</th>\n",
       "      <td>1.640137e+06</td>\n",
       "      <td>0.000000</td>\n",
       "      <td>14.000000</td>\n",
       "      <td>21.800000</td>\n",
       "      <td>7.935015e+05</td>\n",
       "      <td>0.000000</td>\n",
       "      <td>50.000000</td>\n",
       "      <td>0.000000</td>\n",
       "      <td>5.198820e+05</td>\n",
       "      <td>3.604062e+05</td>\n",
       "      <td>23818.000000</td>\n",
       "      <td>743.000000</td>\n",
       "      <td>1.000000</td>\n",
       "    </tr>\n",
       "    <tr>\n",
       "      <th>max</th>\n",
       "      <td>1.014934e+07</td>\n",
       "      <td>7.000000</td>\n",
       "      <td>43.000000</td>\n",
       "      <td>57.700000</td>\n",
       "      <td>1.304726e+09</td>\n",
       "      <td>7.000000</td>\n",
       "      <td>118.000000</td>\n",
       "      <td>4.000000</td>\n",
       "      <td>1.000000e+08</td>\n",
       "      <td>6.506797e+06</td>\n",
       "      <td>136679.000000</td>\n",
       "      <td>7510.000000</td>\n",
       "      <td>1.000000</td>\n",
       "    </tr>\n",
       "  </tbody>\n",
       "</table>\n",
       "</div>"
      ],
      "text/plain": [
       "       Annual Income    Tax Liens  Number of Open Accounts  \\\n",
       "count   5.943000e+03  7500.000000              7500.000000   \n",
       "mean    1.366392e+06     0.030133                11.130933   \n",
       "std     8.453392e+05     0.271604                 4.908924   \n",
       "min     1.645970e+05     0.000000                 2.000000   \n",
       "25%     8.443410e+05     0.000000                 8.000000   \n",
       "50%     1.168386e+06     0.000000                10.000000   \n",
       "75%     1.640137e+06     0.000000                14.000000   \n",
       "max     1.014934e+07     7.000000                43.000000   \n",
       "\n",
       "       Years of Credit History  Maximum Open Credit  \\\n",
       "count              7500.000000         7.500000e+03   \n",
       "mean                 18.317467         9.451537e+05   \n",
       "std                   7.041946         1.602622e+07   \n",
       "min                   4.000000         0.000000e+00   \n",
       "25%                  13.500000         2.792295e+05   \n",
       "50%                  17.000000         4.781590e+05   \n",
       "75%                  21.800000         7.935015e+05   \n",
       "max                  57.700000         1.304726e+09   \n",
       "\n",
       "       Number of Credit Problems  Months since last delinquent  Bankruptcies  \\\n",
       "count                7500.000000                   3419.000000   7486.000000   \n",
       "mean                    0.170000                     34.692600      0.117152   \n",
       "std                     0.498598                     21.688806      0.347192   \n",
       "min                     0.000000                      0.000000      0.000000   \n",
       "25%                     0.000000                     16.000000      0.000000   \n",
       "50%                     0.000000                     32.000000      0.000000   \n",
       "75%                     0.000000                     50.000000      0.000000   \n",
       "max                     7.000000                    118.000000      4.000000   \n",
       "\n",
       "       Current Loan Amount  Current Credit Balance   Monthly Debt  \\\n",
       "count         7.500000e+03            7.500000e+03    7500.000000   \n",
       "mean          1.187318e+07            2.898332e+05   18314.454133   \n",
       "std           3.192612e+07            3.178714e+05   11926.764673   \n",
       "min           1.124200e+04            0.000000e+00       0.000000   \n",
       "25%           1.801690e+05            1.142565e+05   10067.500000   \n",
       "50%           3.095730e+05            2.093230e+05   16076.500000   \n",
       "75%           5.198820e+05            3.604062e+05   23818.000000   \n",
       "max           1.000000e+08            6.506797e+06  136679.000000   \n",
       "\n",
       "       Credit Score  Credit Default  \n",
       "count   5943.000000     7500.000000  \n",
       "mean    1151.087498        0.281733  \n",
       "std     1604.451418        0.449874  \n",
       "min      585.000000        0.000000  \n",
       "25%      711.000000        0.000000  \n",
       "50%      731.000000        0.000000  \n",
       "75%      743.000000        1.000000  \n",
       "max     7510.000000        1.000000  "
      ]
     },
     "execution_count": 24,
     "metadata": {},
     "output_type": "execute_result"
    }
   ],
   "source": [
    "df.describe()"
   ]
  },
  {
   "cell_type": "code",
   "execution_count": 25,
   "metadata": {},
   "outputs": [
    {
     "name": "stdout",
     "output_type": "stream",
     "text": [
      "<class 'pandas.core.frame.DataFrame'>\n",
      "RangeIndex: 7500 entries, 0 to 7499\n",
      "Data columns (total 17 columns):\n",
      " #   Column                        Non-Null Count  Dtype  \n",
      "---  ------                        --------------  -----  \n",
      " 0   Home Ownership                7500 non-null   object \n",
      " 1   Annual Income                 5943 non-null   float64\n",
      " 2   Years in current job          7129 non-null   object \n",
      " 3   Tax Liens                     7500 non-null   float64\n",
      " 4   Number of Open Accounts       7500 non-null   float64\n",
      " 5   Years of Credit History       7500 non-null   float64\n",
      " 6   Maximum Open Credit           7500 non-null   float64\n",
      " 7   Number of Credit Problems     7500 non-null   float64\n",
      " 8   Months since last delinquent  3419 non-null   float64\n",
      " 9   Bankruptcies                  7486 non-null   float64\n",
      " 10  Purpose                       7500 non-null   object \n",
      " 11  Term                          7500 non-null   object \n",
      " 12  Current Loan Amount           7500 non-null   float64\n",
      " 13  Current Credit Balance        7500 non-null   float64\n",
      " 14  Monthly Debt                  7500 non-null   float64\n",
      " 15  Credit Score                  5943 non-null   float64\n",
      " 16  Credit Default                7500 non-null   int64  \n",
      "dtypes: float64(12), int64(1), object(4)\n",
      "memory usage: 996.2+ KB\n"
     ]
    }
   ],
   "source": [
    "df.info()"
   ]
  },
  {
   "cell_type": "markdown",
   "metadata": {},
   "source": [
    "### Tax Liens\n",
    "Признак, имеет неравномерное распределение, так как большинство (от 0 до 75 квантиля) его значений равны нулю, в то время как максимальный элемент выборки равен семи. Проверим его на выбросы, посчитав количество повторений уникальных значений."
   ]
  },
  {
   "cell_type": "code",
   "execution_count": 26,
   "metadata": {},
   "outputs": [
    {
     "data": {
      "text/plain": [
       "0.0    7366\n",
       "1.0      83\n",
       "2.0      30\n",
       "3.0      10\n",
       "4.0       6\n",
       "5.0       2\n",
       "6.0       2\n",
       "7.0       1\n",
       "Name: Tax Liens, dtype: int64"
      ]
     },
     "execution_count": 26,
     "metadata": {},
     "output_type": "execute_result"
    }
   ],
   "source": [
    "df['Tax Liens'].value_counts()"
   ]
  },
  {
   "cell_type": "code",
   "execution_count": 27,
   "metadata": {},
   "outputs": [
    {
     "data": {
      "text/html": [
       "<div>\n",
       "<style scoped>\n",
       "    .dataframe tbody tr th:only-of-type {\n",
       "        vertical-align: middle;\n",
       "    }\n",
       "\n",
       "    .dataframe tbody tr th {\n",
       "        vertical-align: top;\n",
       "    }\n",
       "\n",
       "    .dataframe thead th {\n",
       "        text-align: right;\n",
       "    }\n",
       "</style>\n",
       "<table border=\"1\" class=\"dataframe\">\n",
       "  <thead>\n",
       "    <tr style=\"text-align: right;\">\n",
       "      <th></th>\n",
       "      <th>Home Ownership</th>\n",
       "      <th>Annual Income</th>\n",
       "      <th>Years in current job</th>\n",
       "      <th>Tax Liens</th>\n",
       "      <th>Number of Open Accounts</th>\n",
       "      <th>Years of Credit History</th>\n",
       "      <th>Maximum Open Credit</th>\n",
       "      <th>Number of Credit Problems</th>\n",
       "      <th>Months since last delinquent</th>\n",
       "      <th>Bankruptcies</th>\n",
       "      <th>Purpose</th>\n",
       "      <th>Term</th>\n",
       "      <th>Current Loan Amount</th>\n",
       "      <th>Current Credit Balance</th>\n",
       "      <th>Monthly Debt</th>\n",
       "      <th>Credit Score</th>\n",
       "      <th>Credit Default</th>\n",
       "    </tr>\n",
       "  </thead>\n",
       "  <tbody>\n",
       "    <tr>\n",
       "      <th>1214</th>\n",
       "      <td>Own Home/Rent</td>\n",
       "      <td>3061584.0</td>\n",
       "      <td>2-3 year</td>\n",
       "      <td>6.0</td>\n",
       "      <td>14.0</td>\n",
       "      <td>28.9</td>\n",
       "      <td>949564.0</td>\n",
       "      <td>6.0</td>\n",
       "      <td>67.0</td>\n",
       "      <td>0.0</td>\n",
       "      <td>other</td>\n",
       "      <td>Short Term</td>\n",
       "      <td>99999999.0</td>\n",
       "      <td>352640.0</td>\n",
       "      <td>29595.0</td>\n",
       "      <td>740.0</td>\n",
       "      <td>0</td>\n",
       "    </tr>\n",
       "    <tr>\n",
       "      <th>5373</th>\n",
       "      <td>Own Home/Rent</td>\n",
       "      <td>1711881.0</td>\n",
       "      <td>10+ years</td>\n",
       "      <td>6.0</td>\n",
       "      <td>12.0</td>\n",
       "      <td>15.4</td>\n",
       "      <td>551166.0</td>\n",
       "      <td>6.0</td>\n",
       "      <td>26.0</td>\n",
       "      <td>0.0</td>\n",
       "      <td>other</td>\n",
       "      <td>Short Term</td>\n",
       "      <td>313654.0</td>\n",
       "      <td>295602.0</td>\n",
       "      <td>36092.0</td>\n",
       "      <td>741.0</td>\n",
       "      <td>0</td>\n",
       "    </tr>\n",
       "    <tr>\n",
       "      <th>5969</th>\n",
       "      <td>Own Home/Rent</td>\n",
       "      <td>2897310.0</td>\n",
       "      <td>10+ years</td>\n",
       "      <td>7.0</td>\n",
       "      <td>9.0</td>\n",
       "      <td>20.0</td>\n",
       "      <td>434126.0</td>\n",
       "      <td>7.0</td>\n",
       "      <td>54.0</td>\n",
       "      <td>0.0</td>\n",
       "      <td>major purchase</td>\n",
       "      <td>Short Term</td>\n",
       "      <td>782782.0</td>\n",
       "      <td>275576.0</td>\n",
       "      <td>37182.0</td>\n",
       "      <td>716.0</td>\n",
       "      <td>0</td>\n",
       "    </tr>\n",
       "  </tbody>\n",
       "</table>\n",
       "</div>"
      ],
      "text/plain": [
       "     Home Ownership  Annual Income Years in current job  Tax Liens  \\\n",
       "1214  Own Home/Rent      3061584.0             2-3 year        6.0   \n",
       "5373  Own Home/Rent      1711881.0            10+ years        6.0   \n",
       "5969  Own Home/Rent      2897310.0            10+ years        7.0   \n",
       "\n",
       "      Number of Open Accounts  Years of Credit History  Maximum Open Credit  \\\n",
       "1214                     14.0                     28.9             949564.0   \n",
       "5373                     12.0                     15.4             551166.0   \n",
       "5969                      9.0                     20.0             434126.0   \n",
       "\n",
       "      Number of Credit Problems  Months since last delinquent  Bankruptcies  \\\n",
       "1214                        6.0                          67.0           0.0   \n",
       "5373                        6.0                          26.0           0.0   \n",
       "5969                        7.0                          54.0           0.0   \n",
       "\n",
       "             Purpose        Term  Current Loan Amount  Current Credit Balance  \\\n",
       "1214           other  Short Term           99999999.0                352640.0   \n",
       "5373           other  Short Term             313654.0                295602.0   \n",
       "5969  major purchase  Short Term             782782.0                275576.0   \n",
       "\n",
       "      Monthly Debt  Credit Score  Credit Default  \n",
       "1214       29595.0         740.0               0  \n",
       "5373       36092.0         741.0               0  \n",
       "5969       37182.0         716.0               0  "
      ]
     },
     "execution_count": 27,
     "metadata": {},
     "output_type": "execute_result"
    }
   ],
   "source": [
    "df.loc[df['Tax Liens'] >= 6]"
   ]
  },
  {
   "cell_type": "markdown",
   "metadata": {},
   "source": [
    "Скорее всего, все наблюдения с большим процентом налогов просто имеют большую заработную плату, однако странно, что наличие недвижимости не сказывается на налогах."
   ]
  },
  {
   "cell_type": "markdown",
   "metadata": {},
   "source": [
    "### Number of Open Accounts"
   ]
  },
  {
   "cell_type": "code",
   "execution_count": 28,
   "metadata": {},
   "outputs": [
    {
     "data": {
      "image/png": "[encoded data removed]",
      "text/plain": [
       "<Figure size 1152x288 with 1 Axes>"
      ]
     },
     "metadata": {
      "needs_background": "light"
     },
     "output_type": "display_data"
    }
   ],
   "source": [
    "plt.figure(figsize=(16, 4))\n",
    "plt.hist(df['Number of Open Accounts'], bins=25, density=True)\n",
    "plt.show()"
   ]
  },
  {
   "cell_type": "markdown",
   "metadata": {},
   "source": [
    "Большинство наблюдений имеет не более 10 открытых счетов. Если говорить о данных, применимых в реальной жизни, то не очень понятно, как может быть более 20 счетов, но допустим, что у богатых свои причуды и поднимем планку до 35 (экспертно). Всё что больше - заменим на 35 (также и в тестовой выборке)."
   ]
  },
  {
   "cell_type": "code",
   "execution_count": 29,
   "metadata": {},
   "outputs": [],
   "source": [
    "df.loc[df['Number of Open Accounts'] > 35, 'Number of Open Accounts'] = 35\n",
    "df_test.loc[df_test['Number of Open Accounts'] > 35, 'Number of Open Accounts'] = 35"
   ]
  },
  {
   "cell_type": "markdown",
   "metadata": {},
   "source": [
    "### Years of Credit History"
   ]
  },
  {
   "cell_type": "code",
   "execution_count": 30,
   "metadata": {},
   "outputs": [
    {
     "data": {
      "image/png": "[encoded data removed]",
      "text/plain": [
       "<Figure size 1152x288 with 1 Axes>"
      ]
     },
     "metadata": {
      "needs_background": "light"
     },
     "output_type": "display_data"
    }
   ],
   "source": [
    "plt.figure(figsize=(16,4))\n",
    "plt.hist(df['Years of Credit History'], bins=25)\n",
    "plt.show()"
   ]
  },
  {
   "cell_type": "markdown",
   "metadata": {},
   "source": [
    "Судя по всему, в данном признаке явных выбросов нет. Оставим всё как есть"
   ]
  },
  {
   "cell_type": "markdown",
   "metadata": {},
   "source": [
    "### Maximum Open Credit\n",
    "Признак явно имеет выбросы, так как максимальное значение сильно удалено от 75 квантиля, а также среднее значение сильно отличается от 50 квантиля"
   ]
  },
  {
   "cell_type": "code",
   "execution_count": 31,
   "metadata": {},
   "outputs": [
    {
     "data": {
      "image/png": "[encoded data removed]",
      "text/plain": [
       "<Figure size 432x432 with 1 Axes>"
      ]
     },
     "metadata": {
      "needs_background": "light"
     },
     "output_type": "display_data"
    }
   ],
   "source": [
    "quantilies = [np.percentile(df['Maximum Open Credit'], q=x) for x in np.arange(0, 100, 0.1)]\n",
    "plt.figure(figsize=(6,6))\n",
    "\n",
    "plt.plot(np.arange(0, 100, 0.1), quantilies, linewidth=3)\n",
    "plt.xlabel(\"quantiles of Maximum Open Credit\", size=14)\n",
    "plt.ylabel(\"Maximum Open Credit\", size=14)\n",
    "plt.xlim(0, 100)\n",
    "plt.minorticks_on()\n",
    "plt.grid(which='major', color='k')\n",
    "plt.grid(which='minor', color='grey', linestyle=':')"
   ]
  },
  {
   "cell_type": "code",
   "execution_count": 32,
   "metadata": {},
   "outputs": [],
   "source": [
    "drop_blowout(train=df, test=df_test, feat='Maximum Open Credit', min_q=0, max_q=0.995)"
   ]
  },
  {
   "cell_type": "markdown",
   "metadata": {},
   "source": [
    "### Number of Credit Problems\n",
    "Также имеется значенительная разница между 75 персентелем и максимальным значением. Узнаем, Зависит ли целевая переменная от данных отклонений."
   ]
  },
  {
   "cell_type": "code",
   "execution_count": 33,
   "metadata": {},
   "outputs": [
    {
     "data": {
      "image/png": "[encoded data removed]",
      "text/plain": [
       "<Figure size 432x288 with 1 Axes>"
      ]
     },
     "metadata": {
      "needs_background": "light"
     },
     "output_type": "display_data"
    }
   ],
   "source": [
    "sns.pointplot(x='Number of Credit Problems', y=TARGET, data=df, capsize=.1, label='train')\n",
    "plt.title('Number of Credit Problems', size=20)\n",
    "plt.xlabel('')\n",
    "plt.grid(axis='y')\n",
    "plt.show()"
   ]
  },
  {
   "cell_type": "markdown",
   "metadata": {},
   "source": [
    "Исходя из построенного графика, можно сделать вывод, что эти значения не являются выбросами, а наоборот являются указателями на целевую переменную."
   ]
  },
  {
   "cell_type": "markdown",
   "metadata": {},
   "source": [
    "### Current Loan Amount\n",
    "Имеет очевидные выбросы, так как максимальное значение слишком ровное и удалено от остальных значений."
   ]
  },
  {
   "cell_type": "code",
   "execution_count": 34,
   "metadata": {},
   "outputs": [
    {
     "data": {
      "text/plain": [
       "99999999.0    870\n",
       "89298.0         6\n",
       "218064.0        6\n",
       "216106.0        5\n",
       "270226.0        5\n",
       "             ... \n",
       "490006.0        1\n",
       "404756.0        1\n",
       "194414.0        1\n",
       "420376.0        1\n",
       "33792.0         1\n",
       "Name: Current Loan Amount, Length: 5386, dtype: int64"
      ]
     },
     "execution_count": 34,
     "metadata": {},
     "output_type": "execute_result"
    }
   ],
   "source": [
    "df['Current Loan Amount'].value_counts()"
   ]
  },
  {
   "cell_type": "markdown",
   "metadata": {},
   "source": [
    "Гипотеза подтвердилась, признак имеет выброс со значеним _99 999 999_. Заменим данные значение на случайные числа с распределеним, присущим нашей выборке, однако вместо среднего, использует медиану, так как выброс существенно влияет на среднее значение выборки."
   ]
  },
  {
   "cell_type": "code",
   "execution_count": 35,
   "metadata": {},
   "outputs": [],
   "source": [
    "mask = df['Current Loan Amount'] >= 99999999\n",
    "df.loc[mask, 'Current Loan Amount'] = random.normalvariate(mu=df['Current Loan Amount'].median(), \n",
    "                                                           sigma=df['Current Loan Amount'].std()\n",
    ")\n",
    "mask = df_test['Current Loan Amount'] >= 99999999\n",
    "df_test.loc[mask, 'Current Loan Amount'] = random.normalvariate(mu=df_test['Current Loan Amount'].median(), \n",
    "                                                           sigma=df_test['Current Loan Amount'].std()\n",
    ")"
   ]
  },
  {
   "cell_type": "markdown",
   "metadata": {},
   "source": [
    "Также проверим признак **Maximum Open Credit**, на значения меньше значений признака **Current Loan Amount**. Если они меньше, заменим на значение признака **Current Loan Amount**."
   ]
  },
  {
   "cell_type": "code",
   "execution_count": 36,
   "metadata": {},
   "outputs": [],
   "source": [
    "mask = df['Current Loan Amount'] > df['Maximum Open Credit']\n",
    "df.loc[mask, 'Maximum Open Credit'] = df.loc[mask, 'Current Loan Amount']\n",
    "mask = df_test['Current Loan Amount'] > df_test['Maximum Open Credit']\n",
    "df_test.loc[mask, 'Maximum Open Credit'] = df_test.loc[mask, 'Current Loan Amount']"
   ]
  },
  {
   "cell_type": "markdown",
   "metadata": {},
   "source": [
    "### Credit Score\n",
    "Судя по выборке, признак имеет выбросы, построим график, чтобы в этом убедиться."
   ]
  },
  {
   "cell_type": "code",
   "execution_count": 37,
   "metadata": {},
   "outputs": [
    {
     "data": {
      "image/png": "[encoded data removed]",
      "text/plain": [
       "<Figure size 432x288 with 1 Axes>"
      ]
     },
     "metadata": {
      "needs_background": "light"
     },
     "output_type": "display_data"
    }
   ],
   "source": [
    "plt.hist(df['Credit Score'], log=True)\n",
    "plt.show()"
   ]
  },
  {
   "cell_type": "markdown",
   "metadata": {},
   "source": [
    "Гипотеза подтверилась. Узнаем природу выбросов."
   ]
  },
  {
   "cell_type": "code",
   "execution_count": 38,
   "metadata": {},
   "outputs": [
    {
     "data": {
      "text/plain": [
       "7400.0    15\n",
       "7300.0    13\n",
       "7330.0    13\n",
       "7170.0    12\n",
       "7370.0    12\n",
       "          ..\n",
       "6830.0     1\n",
       "6910.0     1\n",
       "6450.0     1\n",
       "6610.0     1\n",
       "6170.0     1\n",
       "Name: Credit Score, Length: 110, dtype: int64"
      ]
     },
     "execution_count": 38,
     "metadata": {},
     "output_type": "execute_result"
    }
   ],
   "source": [
    "df.loc[df['Credit Score'] >= 5000, 'Credit Score'].value_counts()"
   ]
  },
  {
   "cell_type": "markdown",
   "metadata": {},
   "source": [
    "Судя по всему кредитный рейтинг умножился на _10_. Исправим это."
   ]
  },
  {
   "cell_type": "code",
   "execution_count": 39,
   "metadata": {},
   "outputs": [],
   "source": [
    "df.loc[df['Credit Score'] >= 5000, 'Credit Score'] = df.loc[df['Credit Score'] >= 5000, 'Credit Score'].apply(lambda x: x // 10)\n",
    "df_test.loc[df_test['Credit Score'] >= 5000, 'Credit Score'] = \\\n",
    "df_test.loc[df_test['Credit Score'] >= 5000, 'Credit Score'].apply(lambda x: x // 10)"
   ]
  },
  {
   "cell_type": "markdown",
   "metadata": {},
   "source": [
    "## <center>Обработка пропусков<a class='anchor' id='passes'></a><center>"
   ]
  },
  {
   "cell_type": "code",
   "execution_count": 40,
   "metadata": {},
   "outputs": [
    {
     "data": {
      "text/plain": [
       "Home Ownership                     0\n",
       "Annual Income                   1557\n",
       "Years in current job             371\n",
       "Tax Liens                          0\n",
       "Number of Open Accounts            0\n",
       "Years of Credit History            0\n",
       "Maximum Open Credit                0\n",
       "Number of Credit Problems          0\n",
       "Months since last delinquent    4081\n",
       "Bankruptcies                      14\n",
       "Purpose                            0\n",
       "Term                               0\n",
       "Current Loan Amount                0\n",
       "Current Credit Balance             0\n",
       "Monthly Debt                       0\n",
       "Credit Score                    1557\n",
       "Credit Default                     0\n",
       "dtype: int64"
      ]
     },
     "execution_count": 40,
     "metadata": {},
     "output_type": "execute_result"
    }
   ],
   "source": [
    "df.isna().sum()"
   ]
  },
  {
   "cell_type": "code",
   "execution_count": 41,
   "metadata": {},
   "outputs": [
    {
     "data": {
      "text/plain": [
       "Home Ownership                     0\n",
       "Annual Income                    513\n",
       "Years in current job              86\n",
       "Tax Liens                          0\n",
       "Number of Open Accounts            0\n",
       "Years of Credit History            0\n",
       "Maximum Open Credit                0\n",
       "Number of Credit Problems          0\n",
       "Months since last delinquent    1358\n",
       "Bankruptcies                       3\n",
       "Purpose                            0\n",
       "Term                               0\n",
       "Current Loan Amount                0\n",
       "Current Credit Balance             0\n",
       "Monthly Debt                       0\n",
       "Credit Score                     513\n",
       "dtype: int64"
      ]
     },
     "execution_count": 41,
     "metadata": {},
     "output_type": "execute_result"
    }
   ],
   "source": [
    "df_test.isna().sum()"
   ]
  },
  {
   "cell_type": "markdown",
   "metadata": {},
   "source": [
    "### Annual Income\n",
    "Количество пропусков - около 20%, присвоим этим данным случайные в схожем распределении значений данного признака"
   ]
  },
  {
   "cell_type": "code",
   "execution_count": 42,
   "metadata": {},
   "outputs": [],
   "source": [
    "df.loc[df['Annual Income'].isnull().index, 'Annual Income'] = random.normalvariate(mu=df['Annual Income'].mean(), \n",
    "                                                                    sigma=df['Annual Income'].std())\n",
    "df_test.loc[df_test['Annual Income'].isnull().index, 'Annual Income'] = random.normalvariate(mu=df_test['Annual Income'].mean(), \n",
    "                                                                    sigma=df_test['Annual Income'].std())"
   ]
  },
  {
   "cell_type": "markdown",
   "metadata": {},
   "source": [
    "### Years in current job\n",
    "Количество пропусков - меньше 10%, присвоим пропускам значение моды"
   ]
  },
  {
   "cell_type": "code",
   "execution_count": 43,
   "metadata": {},
   "outputs": [],
   "source": [
    "df['Years in current job'].fillna(statistics.mode(df['Years in current job']), inplace=True)\n",
    "df_test['Years in current job'].fillna(statistics.mode(df_test['Years in current job']), inplace=True)"
   ]
  },
  {
   "cell_type": "markdown",
   "metadata": {},
   "source": [
    "### Months since last delinquent\n",
    "Помним, что схожесть тестовой и тренировочной выборок близка к нулю, но возможно всё дело в имеющихся пропусках. Заполним их и проверим."
   ]
  },
  {
   "cell_type": "code",
   "execution_count": 44,
   "metadata": {},
   "outputs": [],
   "source": [
    "mask = df['Months since last delinquent'].isnull().index\n",
    "df.loc[mask, 'Annual Income'] = random.normalvariate(mu=df['Months since last delinquent'].mean(), \n",
    "                                                     sigma=df['Months since last delinquent'].std())\n",
    "mask = df_test['Months since last delinquent'].isnull().index\n",
    "df_test.loc[mask, 'Annual Income'] = random.normalvariate(mu=df_test['Months since last delinquent'].mean(), \n",
    "                                                          sigma=df_test['Months since last delinquent'].std())"
   ]
  },
  {
   "cell_type": "code",
   "execution_count": 45,
   "metadata": {},
   "outputs": [
    {
     "data": {
      "image/png": "[encoded data removed]",
      "text/plain": [
       "<Figure size 432x288 with 1 Axes>"
      ]
     },
     "metadata": {
      "needs_background": "light"
     },
     "output_type": "display_data"
    }
   ],
   "source": [
    "feat = 'Months since last delinquent'\n",
    "sns.kdeplot(df[feat], shade=True, label='train', color='r')\n",
    "sns.kdeplot(df_test[feat], shade=True, label='test', color='c')\n",
    "plt.legend()\n",
    "plt.title(f'{feat} (pvalue - {mannwhitneyu(df[feat], df_test[feat]).pvalue.round(5)})')\n",
    "plt.show()"
   ]
  },
  {
   "cell_type": "markdown",
   "metadata": {},
   "source": [
    "Гипотеза не подтвердилась. Удаляем признаки"
   ]
  },
  {
   "cell_type": "code",
   "execution_count": 46,
   "metadata": {},
   "outputs": [],
   "source": [
    "df.drop(columns=to_del, inplace=True)\n",
    "df_test.drop(columns=to_del, inplace=True)\n",
    "for col in to_del:\n",
    "    BASE_FEAT.remove(col)\n",
    "    NUM_FEAT.remove(col)"
   ]
  },
  {
   "cell_type": "markdown",
   "metadata": {},
   "source": [
    "### Credit Score\n",
    "Заполним пропуски сгрупировав значения признака по другим."
   ]
  },
  {
   "cell_type": "code",
   "execution_count": 47,
   "metadata": {},
   "outputs": [],
   "source": [
    "# feat_to_predict_score = NUM_FEAT.copy()\n",
    "# feat_to_predict_score.remove('Credit Score')"
   ]
  },
  {
   "cell_type": "code",
   "execution_count": 48,
   "metadata": {},
   "outputs": [],
   "source": [
    "# X = df.loc[df['Credit Score'].notna(), feat_to_predict_score]\n",
    "# y = df.loc[df['Credit Score'].notna(), 'Credit Score']\n",
    "# scaler = MinMaxScaler()\n",
    "# X_scaled = scaler.fit_transform(X)\n",
    "\n",
    "# X_train, X_valid, y_train, y_valid = train_test_split(X_scaled, y, test_size=0.33, random_state=42)\n",
    "\n",
    "# lr_model = LinearRegression()\n",
    "# lr_model.fit(X_train, y_train)\n",
    "# y_train_pred = lr_model.predict(X_train)\n",
    "# y_valid_pred = lr_model.predict(X_valid)\n",
    "# evaluate_linear_preds(y_train, y_train_pred, y_valid, y_valid_pred)"
   ]
  },
  {
   "cell_type": "markdown",
   "metadata": {},
   "source": [
    "За неимением лучшего, используем данную модель и заполним пропуски с помощью неё. Буду благодарен более лаконичному решению проблемы :)"
   ]
  },
  {
   "cell_type": "code",
   "execution_count": 49,
   "metadata": {},
   "outputs": [],
   "source": [
    "# lr_model.fit(X_scaled, y)\n",
    "# X_df_na = df.loc[df['Credit Score'].isna(), feat_to_predict_score]\n",
    "# X_df_test_na = df_test.loc[df_test['Credit Score'].isna(), feat_to_predict_score]\n",
    "# df_pred = lr_model.predict(X_df_na)\n",
    "# df_test_pred = lr_model.predict(X_df_test_na)"
   ]
  },
  {
   "cell_type": "code",
   "execution_count": 50,
   "metadata": {},
   "outputs": [],
   "source": [
    "# df.loc[df['Credit Score'].isna(), 'Credit Score'] = df_pred\n",
    "# df_test.loc[df_test['Credit Score'].isna(), 'Credit Score'] = df_test_pred"
   ]
  },
  {
   "cell_type": "markdown",
   "metadata": {},
   "source": [
    "Проверим, не напутала ли наша модель чего."
   ]
  },
  {
   "cell_type": "code",
   "execution_count": 51,
   "metadata": {},
   "outputs": [],
   "source": [
    "# plt.hist(df['Credit Score'])\n",
    "# plt.show()"
   ]
  },
  {
   "cell_type": "code",
   "execution_count": 52,
   "metadata": {},
   "outputs": [
    {
     "data": {
      "text/plain": [
       "Own Home/Rent    3851\n",
       "Home Mortgage    3637\n",
       "Have Mortgage      12\n",
       "Name: Home Ownership, dtype: int64"
      ]
     },
     "execution_count": 52,
     "metadata": {},
     "output_type": "execute_result"
    }
   ],
   "source": [
    "df['Home Ownership'].value_counts()"
   ]
  },
  {
   "cell_type": "code",
   "execution_count": 53,
   "metadata": {},
   "outputs": [],
   "source": [
    "train_test_concated = pd.concat([df[OBJ_FEAT + ['Credit Score']], df_test[OBJ_FEAT + ['Credit Score']]], axis=0)\n",
    "train_test_concated = train_test_concated.groupby(OBJ_FEAT, as_index=False).agg(\n",
    "                      {'Credit Score': 'mean'}).rename(columns={'Credit Score': 'to_merge'})\n",
    "med = statistics.median(train_test_concated.loc[train_test_concated['to_merge'].notna(), 'to_merge'])\n",
    "train_test_concated['to_merge'].fillna(med, inplace=True)"
   ]
  },
  {
   "cell_type": "code",
   "execution_count": 54,
   "metadata": {},
   "outputs": [],
   "source": [
    "df = pd.merge(left=df, right=train_test_concated, on=OBJ_FEAT, how='left')\n",
    "df.loc[df['Credit Score'].isna(), 'Credit Score'] = df.loc[df['Credit Score'].isna(), 'to_merge']\n",
    "df.drop(columns=['to_merge'], inplace=True)\n",
    "df_test = pd.merge(left=df_test, right=train_test_concated, on=OBJ_FEAT, how='left')\n",
    "df_test.loc[df_test['Credit Score'].isna(), 'Credit Score'] = df_test.loc[df_test['Credit Score'].isna(), 'to_merge']\n",
    "df_test.drop(columns=['to_merge'], inplace=True)"
   ]
  },
  {
   "cell_type": "code",
   "execution_count": 55,
   "metadata": {},
   "outputs": [
    {
     "data": {
      "text/plain": [
       "Home Ownership               0\n",
       "Annual Income                0\n",
       "Years in current job         0\n",
       "Tax Liens                    0\n",
       "Number of Open Accounts      0\n",
       "Years of Credit History      0\n",
       "Maximum Open Credit          0\n",
       "Number of Credit Problems    0\n",
       "Purpose                      0\n",
       "Term                         0\n",
       "Current Loan Amount          0\n",
       "Current Credit Balance       0\n",
       "Monthly Debt                 0\n",
       "Credit Score                 0\n",
       "Credit Default               0\n",
       "dtype: int64"
      ]
     },
     "execution_count": 55,
     "metadata": {},
     "output_type": "execute_result"
    }
   ],
   "source": [
    "df.isna().sum()"
   ]
  },
  {
   "cell_type": "code",
   "execution_count": 56,
   "metadata": {},
   "outputs": [
    {
     "data": {
      "text/plain": [
       "Home Ownership               0\n",
       "Annual Income                0\n",
       "Years in current job         0\n",
       "Tax Liens                    0\n",
       "Number of Open Accounts      0\n",
       "Years of Credit History      0\n",
       "Maximum Open Credit          0\n",
       "Number of Credit Problems    0\n",
       "Purpose                      0\n",
       "Term                         0\n",
       "Current Loan Amount          0\n",
       "Current Credit Balance       0\n",
       "Monthly Debt                 0\n",
       "Credit Score                 0\n",
       "dtype: int64"
      ]
     },
     "execution_count": 56,
     "metadata": {},
     "output_type": "execute_result"
    }
   ],
   "source": [
    "df_test.isna().sum()"
   ]
  },
  {
   "cell_type": "markdown",
   "metadata": {},
   "source": [
    "Выбросы отработаны, пропуски заполнены. Следует обучить модель, чтобы отслеживать тренд изменения метрики качества."
   ]
  },
  {
   "cell_type": "code",
   "execution_count": 57,
   "metadata": {},
   "outputs": [],
   "source": [
    "X = df[NUM_FEAT]\n",
    "y = df[TARGET]\n",
    "X_train, X_valid, y_train, y_valid = train_test_split(X, y, test_size=0.33, random_state=42, shuffle=True)"
   ]
  },
  {
   "cell_type": "code",
   "execution_count": 58,
   "metadata": {},
   "outputs": [
    {
     "name": "stdout",
     "output_type": "stream",
     "text": [
      "TRAIN\n",
      "\n",
      "              precision    recall  f1-score   support\n",
      "\n",
      "           0       0.72      1.00      0.84      3631\n",
      "           1       0.00      0.00      0.00      1394\n",
      "\n",
      "    accuracy                           0.72      5025\n",
      "   macro avg       0.36      0.50      0.42      5025\n",
      "weighted avg       0.52      0.72      0.61      5025\n",
      "\n",
      "TEST\n",
      "\n",
      "              precision    recall  f1-score   support\n",
      "\n",
      "           0       0.71      1.00      0.83      1756\n",
      "           1       0.25      0.00      0.00       719\n",
      "\n",
      "    accuracy                           0.71      2475\n",
      "   macro avg       0.48      0.50      0.42      2475\n",
      "weighted avg       0.58      0.71      0.59      2475\n",
      "\n",
      "CONFUSION MATRIX\n",
      "\n",
      "col_0              0  1\n",
      "Credit Default         \n",
      "0               1753  3\n",
      "1                718  1\n"
     ]
    }
   ],
   "source": [
    "model_lr = LogisticRegression()\n",
    "model_lr.fit(X_train, y_train)\n",
    "evaluate_preds(model_lr, X_train, X_valid, y_train, y_valid)"
   ]
  },
  {
   "cell_type": "markdown",
   "metadata": {},
   "source": [
    "## <center>Анализ данных<a class='anchor' id='data_analisys'></a><center>"
   ]
  },
  {
   "cell_type": "code",
   "execution_count": 59,
   "metadata": {},
   "outputs": [
    {
     "data": {
      "text/html": [
       "<div>\n",
       "<style scoped>\n",
       "    .dataframe tbody tr th:only-of-type {\n",
       "        vertical-align: middle;\n",
       "    }\n",
       "\n",
       "    .dataframe tbody tr th {\n",
       "        vertical-align: top;\n",
       "    }\n",
       "\n",
       "    .dataframe thead th {\n",
       "        text-align: right;\n",
       "    }\n",
       "</style>\n",
       "<table border=\"1\" class=\"dataframe\">\n",
       "  <thead>\n",
       "    <tr style=\"text-align: right;\">\n",
       "      <th></th>\n",
       "      <th>Home Ownership</th>\n",
       "      <th>Annual Income</th>\n",
       "      <th>Years in current job</th>\n",
       "      <th>Tax Liens</th>\n",
       "      <th>Number of Open Accounts</th>\n",
       "      <th>Years of Credit History</th>\n",
       "      <th>Maximum Open Credit</th>\n",
       "      <th>Number of Credit Problems</th>\n",
       "      <th>Purpose</th>\n",
       "      <th>Term</th>\n",
       "      <th>Current Loan Amount</th>\n",
       "      <th>Current Credit Balance</th>\n",
       "      <th>Monthly Debt</th>\n",
       "      <th>Credit Score</th>\n",
       "      <th>Credit Default</th>\n",
       "    </tr>\n",
       "  </thead>\n",
       "  <tbody>\n",
       "    <tr>\n",
       "      <th>0</th>\n",
       "      <td>Own Home/Rent</td>\n",
       "      <td>44.653475</td>\n",
       "      <td>10+ years</td>\n",
       "      <td>0.0</td>\n",
       "      <td>11.0</td>\n",
       "      <td>26.3</td>\n",
       "      <td>3.443328e+06</td>\n",
       "      <td>1.0</td>\n",
       "      <td>other</td>\n",
       "      <td>Short Term</td>\n",
       "      <td>3.443328e+06</td>\n",
       "      <td>47386.0</td>\n",
       "      <td>7914.0</td>\n",
       "      <td>749.0</td>\n",
       "      <td>0</td>\n",
       "    </tr>\n",
       "    <tr>\n",
       "      <th>1</th>\n",
       "      <td>Own Home/Rent</td>\n",
       "      <td>44.653475</td>\n",
       "      <td>10+ years</td>\n",
       "      <td>0.0</td>\n",
       "      <td>15.0</td>\n",
       "      <td>15.3</td>\n",
       "      <td>1.181730e+06</td>\n",
       "      <td>0.0</td>\n",
       "      <td>other</td>\n",
       "      <td>Long Term</td>\n",
       "      <td>2.649680e+05</td>\n",
       "      <td>394972.0</td>\n",
       "      <td>18373.0</td>\n",
       "      <td>737.0</td>\n",
       "      <td>1</td>\n",
       "    </tr>\n",
       "    <tr>\n",
       "      <th>2</th>\n",
       "      <td>Home Mortgage</td>\n",
       "      <td>44.653475</td>\n",
       "      <td>8 years</td>\n",
       "      <td>0.0</td>\n",
       "      <td>11.0</td>\n",
       "      <td>35.0</td>\n",
       "      <td>3.443328e+06</td>\n",
       "      <td>0.0</td>\n",
       "      <td>other</td>\n",
       "      <td>Short Term</td>\n",
       "      <td>3.443328e+06</td>\n",
       "      <td>308389.0</td>\n",
       "      <td>13651.0</td>\n",
       "      <td>742.0</td>\n",
       "      <td>0</td>\n",
       "    </tr>\n",
       "    <tr>\n",
       "      <th>3</th>\n",
       "      <td>Own Home/Rent</td>\n",
       "      <td>44.653475</td>\n",
       "      <td>6 years</td>\n",
       "      <td>0.0</td>\n",
       "      <td>8.0</td>\n",
       "      <td>22.5</td>\n",
       "      <td>1.474000e+05</td>\n",
       "      <td>1.0</td>\n",
       "      <td>other</td>\n",
       "      <td>Short Term</td>\n",
       "      <td>1.213960e+05</td>\n",
       "      <td>95855.0</td>\n",
       "      <td>11338.0</td>\n",
       "      <td>694.0</td>\n",
       "      <td>0</td>\n",
       "    </tr>\n",
       "    <tr>\n",
       "      <th>4</th>\n",
       "      <td>Own Home/Rent</td>\n",
       "      <td>44.653475</td>\n",
       "      <td>8 years</td>\n",
       "      <td>0.0</td>\n",
       "      <td>13.0</td>\n",
       "      <td>13.6</td>\n",
       "      <td>3.858360e+05</td>\n",
       "      <td>1.0</td>\n",
       "      <td>other</td>\n",
       "      <td>Short Term</td>\n",
       "      <td>1.258400e+05</td>\n",
       "      <td>93309.0</td>\n",
       "      <td>7180.0</td>\n",
       "      <td>719.0</td>\n",
       "      <td>0</td>\n",
       "    </tr>\n",
       "  </tbody>\n",
       "</table>\n",
       "</div>"
      ],
      "text/plain": [
       "  Home Ownership  Annual Income Years in current job  Tax Liens  \\\n",
       "0  Own Home/Rent      44.653475            10+ years        0.0   \n",
       "1  Own Home/Rent      44.653475            10+ years        0.0   \n",
       "2  Home Mortgage      44.653475              8 years        0.0   \n",
       "3  Own Home/Rent      44.653475              6 years        0.0   \n",
       "4  Own Home/Rent      44.653475              8 years        0.0   \n",
       "\n",
       "   Number of Open Accounts  Years of Credit History  Maximum Open Credit  \\\n",
       "0                     11.0                     26.3         3.443328e+06   \n",
       "1                     15.0                     15.3         1.181730e+06   \n",
       "2                     11.0                     35.0         3.443328e+06   \n",
       "3                      8.0                     22.5         1.474000e+05   \n",
       "4                     13.0                     13.6         3.858360e+05   \n",
       "\n",
       "   Number of Credit Problems Purpose        Term  Current Loan Amount  \\\n",
       "0                        1.0   other  Short Term         3.443328e+06   \n",
       "1                        0.0   other   Long Term         2.649680e+05   \n",
       "2                        0.0   other  Short Term         3.443328e+06   \n",
       "3                        1.0   other  Short Term         1.213960e+05   \n",
       "4                        1.0   other  Short Term         1.258400e+05   \n",
       "\n",
       "   Current Credit Balance  Monthly Debt  Credit Score  Credit Default  \n",
       "0                 47386.0        7914.0         749.0               0  \n",
       "1                394972.0       18373.0         737.0               1  \n",
       "2                308389.0       13651.0         742.0               0  \n",
       "3                 95855.0       11338.0         694.0               0  \n",
       "4                 93309.0        7180.0         719.0               0  "
      ]
     },
     "execution_count": 59,
     "metadata": {},
     "output_type": "execute_result"
    }
   ],
   "source": [
    "df.head()"
   ]
  },
  {
   "cell_type": "markdown",
   "metadata": {},
   "source": [
    "### JobYears\n",
    "Добавим новый вещественный признак на основе категориального признака **Years in currnet job**"
   ]
  },
  {
   "cell_type": "code",
   "execution_count": 60,
   "metadata": {},
   "outputs": [
    {
     "data": {
      "text/plain": [
       "10+ years    2703\n",
       "2-3 year     1325\n",
       "4-5 year      985\n",
       "< 1 year      563\n",
       "1 year        504\n",
       "6 years       426\n",
       "7 years       396\n",
       "8 years       339\n",
       "9 years       259\n",
       "Name: Years in current job, dtype: int64"
      ]
     },
     "execution_count": 60,
     "metadata": {},
     "output_type": "execute_result"
    }
   ],
   "source": [
    "df['Years in current job'].value_counts()"
   ]
  },
  {
   "cell_type": "code",
   "execution_count": 61,
   "metadata": {},
   "outputs": [],
   "source": [
    "df['JobYears'] = df['Years in current job']\n",
    "df_test['JobYears'] = df_test['Years in current job']"
   ]
  },
  {
   "cell_type": "code",
   "execution_count": 62,
   "metadata": {},
   "outputs": [],
   "source": [
    "dict_years = {'< 1 year': 0,\n",
    "             '1 year': 1,\n",
    "             '2-3 year': 2,\n",
    "             '4-5 year': 4,\n",
    "             '6 years': 6,\n",
    "             '7 years': 7,\n",
    "             '8 years': 8,\n",
    "             '9 years': 9,\n",
    "             '10+ years': 10}\n",
    "df = df.replace({'JobYears': dict_years})\n",
    "df_test = df_test.replace({'JobYears': dict_years})"
   ]
  },
  {
   "cell_type": "code",
   "execution_count": 63,
   "metadata": {},
   "outputs": [],
   "source": [
    "df = pd.concat([df, pd.get_dummies(df['Years in current job'])], axis=1)\n",
    "df_test = pd.concat([df_test, pd.get_dummies(df_test['Years in current job'])], axis=1)"
   ]
  },
  {
   "cell_type": "markdown",
   "metadata": {},
   "source": [
    "### Ratio_*_to_Income\n",
    "Создадим признак, показывающий отношение каждого из признаков **Maximum Open Credit**, **Current Loan Amount**, **Current Credit Balance** к годовому доходу."
   ]
  },
  {
   "cell_type": "code",
   "execution_count": 64,
   "metadata": {},
   "outputs": [],
   "source": [
    "generate_ratio_to_income(['Maximum Open Credit', 'Current Loan Amount', 'Current Credit Balance'])"
   ]
  },
  {
   "cell_type": "markdown",
   "metadata": {},
   "source": [
    "### Ratio Current to Max Loan\n",
    "Признак показывающий отношение размера последнего кредита к максимальному."
   ]
  },
  {
   "cell_type": "code",
   "execution_count": 65,
   "metadata": {},
   "outputs": [],
   "source": [
    "df['Ratio Current to Max Loan'] = df['Current Loan Amount'] / df['Years of Credit History']\n",
    "df_test['Ratio Current to Max Loan'] = df_test['Current Loan Amount'] / df_test['Years of Credit History']"
   ]
  },
  {
   "cell_type": "markdown",
   "metadata": {},
   "source": [
    "### Ratio Problems to CreditHistory\n",
    "Признак, показывающий отношение проблем и срока кредитной истории"
   ]
  },
  {
   "cell_type": "code",
   "execution_count": 66,
   "metadata": {},
   "outputs": [],
   "source": [
    "df['Ratio Problems to CreditHistory'] = df['Number of Credit Problems'] / df['Maximum Open Credit']\n",
    "df_test['Ratio Problems to CreditHistory'] = df_test['Number of Credit Problems'] / df_test['Maximum Open Credit']"
   ]
  },
  {
   "cell_type": "markdown",
   "metadata": {},
   "source": [
    "### Ratio Credit Balance to Loan Amount\n",
    "Признак, показывающий отношение остатка кредита и его изначальной суммы"
   ]
  },
  {
   "cell_type": "code",
   "execution_count": 67,
   "metadata": {},
   "outputs": [],
   "source": [
    "df['Ratio Credit Balance to Loan Amount'] = df['Current Credit Balance'] / df['Current Loan Amount']\n",
    "df_test['Ratio Credit Balance to Loan Amount'] = df_test['Current Credit Balance'] / df_test['Current Loan Amount']"
   ]
  },
  {
   "cell_type": "markdown",
   "metadata": {},
   "source": [
    "### Loan Term Num\n",
    "Срок кредита в месяцах"
   ]
  },
  {
   "cell_type": "code",
   "execution_count": 68,
   "metadata": {},
   "outputs": [],
   "source": [
    "df['Loan Term Num'] = df['Current Loan Amount'] / df['Monthly Debt']\n",
    "df_test['Loan Term Num'] = df_test['Current Loan Amount'] / df_test['Monthly Debt']"
   ]
  },
  {
   "cell_type": "markdown",
   "metadata": {},
   "source": [
    "### Remaining Loan Term\n",
    "оставшийся срок кредита в месяцах"
   ]
  },
  {
   "cell_type": "code",
   "execution_count": 69,
   "metadata": {},
   "outputs": [],
   "source": [
    "df['Remaining Loan Term'] = df['Current Credit Balance'] / df['Monthly Debt']\n",
    "df_test['Remaining Loan Term'] = df_test['Current Credit Balance'] / df_test['Monthly Debt']\n",
    "df['Remaining Loan Term'].fillna(9999, inplace=True)\n",
    "df_test['Remaining Loan Term'].fillna(9999, inplace=True)"
   ]
  },
  {
   "cell_type": "markdown",
   "metadata": {},
   "source": [
    "### Remaning Loan after Debt\n",
    "Сумма остатка после погашения в этом месяце"
   ]
  },
  {
   "cell_type": "code",
   "execution_count": 70,
   "metadata": {},
   "outputs": [],
   "source": [
    "df['Remaning Loan after Debt'] = df['Current Credit Balance'] - df['Monthly Debt']\n",
    "df_test['Remaning Loan after Debt'] = df_test['Current Credit Balance'] - df_test['Monthly Debt']"
   ]
  },
  {
   "cell_type": "markdown",
   "metadata": {},
   "source": [
    "### is Debt Last\n",
    "Признак, показывающий, является ли погашение в этом месяце последним"
   ]
  },
  {
   "cell_type": "code",
   "execution_count": 71,
   "metadata": {},
   "outputs": [],
   "source": [
    "df.loc[df['Remaning Loan after Debt'] <= 0, 'is Debt Last'] = 1\n",
    "df.loc[df['Remaning Loan after Debt'] > 0, 'is Debt Last'] = 0\n",
    "df_test.loc[df_test['Remaning Loan after Debt'] <= 0, 'is Debt Last'] = 1\n",
    "df_test.loc[df_test['Remaning Loan after Debt'] > 0, 'is Debt Last'] = 0"
   ]
  },
  {
   "cell_type": "markdown",
   "metadata": {},
   "source": [
    "### Term\n",
    "Вещественный признак в основе признака **Term**"
   ]
  },
  {
   "cell_type": "code",
   "execution_count": 72,
   "metadata": {},
   "outputs": [
    {
     "data": {
      "text/plain": [
       "Short Term    5556\n",
       "Long Term     1944\n",
       "Name: Term, dtype: int64"
      ]
     },
     "execution_count": 72,
     "metadata": {},
     "output_type": "execute_result"
    }
   ],
   "source": [
    "df['Term'].value_counts()"
   ]
  },
  {
   "cell_type": "code",
   "execution_count": 73,
   "metadata": {},
   "outputs": [],
   "source": [
    "term_dict = {'Short Term': 0, 'Long Term': 1}\n",
    "df.replace({'Term': term_dict}, inplace=True)\n",
    "df_test.replace({'Term': term_dict}, inplace=True)"
   ]
  },
  {
   "cell_type": "markdown",
   "metadata": {},
   "source": [
    "### Target Encode NumProblems\n",
    "Кодирование целевой переменной через признак **Number of Credit Problems**"
   ]
  },
  {
   "cell_type": "code",
   "execution_count": 74,
   "metadata": {},
   "outputs": [
    {
     "data": {
      "text/html": [
       "<div>\n",
       "<style scoped>\n",
       "    .dataframe tbody tr th:only-of-type {\n",
       "        vertical-align: middle;\n",
       "    }\n",
       "\n",
       "    .dataframe tbody tr th {\n",
       "        vertical-align: top;\n",
       "    }\n",
       "\n",
       "    .dataframe thead th {\n",
       "        text-align: right;\n",
       "    }\n",
       "</style>\n",
       "<table border=\"1\" class=\"dataframe\">\n",
       "  <thead>\n",
       "    <tr style=\"text-align: right;\">\n",
       "      <th></th>\n",
       "      <th>Number of Credit Problems</th>\n",
       "      <th>Credit Default</th>\n",
       "    </tr>\n",
       "  </thead>\n",
       "  <tbody>\n",
       "    <tr>\n",
       "      <th>0</th>\n",
       "      <td>0.0</td>\n",
       "      <td>0.280569</td>\n",
       "    </tr>\n",
       "    <tr>\n",
       "      <th>1</th>\n",
       "      <td>1.0</td>\n",
       "      <td>0.273243</td>\n",
       "    </tr>\n",
       "    <tr>\n",
       "      <th>2</th>\n",
       "      <td>2.0</td>\n",
       "      <td>0.354839</td>\n",
       "    </tr>\n",
       "    <tr>\n",
       "      <th>3</th>\n",
       "      <td>3.0</td>\n",
       "      <td>0.400000</td>\n",
       "    </tr>\n",
       "    <tr>\n",
       "      <th>4</th>\n",
       "      <td>4.0</td>\n",
       "      <td>0.666667</td>\n",
       "    </tr>\n",
       "    <tr>\n",
       "      <th>5</th>\n",
       "      <td>5.0</td>\n",
       "      <td>0.571429</td>\n",
       "    </tr>\n",
       "    <tr>\n",
       "      <th>6</th>\n",
       "      <td>6.0</td>\n",
       "      <td>0.000000</td>\n",
       "    </tr>\n",
       "    <tr>\n",
       "      <th>7</th>\n",
       "      <td>7.0</td>\n",
       "      <td>0.000000</td>\n",
       "    </tr>\n",
       "  </tbody>\n",
       "</table>\n",
       "</div>"
      ],
      "text/plain": [
       "   Number of Credit Problems  Credit Default\n",
       "0                        0.0        0.280569\n",
       "1                        1.0        0.273243\n",
       "2                        2.0        0.354839\n",
       "3                        3.0        0.400000\n",
       "4                        4.0        0.666667\n",
       "5                        5.0        0.571429\n",
       "6                        6.0        0.000000\n",
       "7                        7.0        0.000000"
      ]
     },
     "execution_count": 74,
     "metadata": {},
     "output_type": "execute_result"
    }
   ],
   "source": [
    "df.groupby('Number of Credit Problems', as_index=False).agg({'Credit Default': 'mean'})"
   ]
  },
  {
   "cell_type": "code",
   "execution_count": 75,
   "metadata": {},
   "outputs": [
    {
     "data": {
      "text/plain": [
       "0.0     2177\n",
       "1.0      280\n",
       "2.0       29\n",
       "3.0        7\n",
       "5.0        4\n",
       "15.0       1\n",
       "4.0        1\n",
       "7.0        1\n",
       "Name: Number of Credit Problems, dtype: int64"
      ]
     },
     "execution_count": 75,
     "metadata": {},
     "output_type": "execute_result"
    }
   ],
   "source": [
    "df_test['Number of Credit Problems'].value_counts()"
   ]
  },
  {
   "cell_type": "code",
   "execution_count": 76,
   "metadata": {},
   "outputs": [
    {
     "data": {
      "text/html": [
       "<div>\n",
       "<style scoped>\n",
       "    .dataframe tbody tr th:only-of-type {\n",
       "        vertical-align: middle;\n",
       "    }\n",
       "\n",
       "    .dataframe tbody tr th {\n",
       "        vertical-align: top;\n",
       "    }\n",
       "\n",
       "    .dataframe thead th {\n",
       "        text-align: right;\n",
       "    }\n",
       "</style>\n",
       "<table border=\"1\" class=\"dataframe\">\n",
       "  <thead>\n",
       "    <tr style=\"text-align: right;\">\n",
       "      <th></th>\n",
       "      <th>Home Ownership</th>\n",
       "      <th>Annual Income</th>\n",
       "      <th>Years in current job</th>\n",
       "      <th>Tax Liens</th>\n",
       "      <th>Number of Open Accounts</th>\n",
       "      <th>Years of Credit History</th>\n",
       "      <th>Maximum Open Credit</th>\n",
       "      <th>Number of Credit Problems</th>\n",
       "      <th>Purpose</th>\n",
       "      <th>Term</th>\n",
       "      <th>...</th>\n",
       "      <th>ratio_Current Credit Balance_to_income</th>\n",
       "      <th>Ratio Current to Max Loan</th>\n",
       "      <th>Ratio Problems to CreditHistory</th>\n",
       "      <th>Ratio Credit Balance to Loan Amount</th>\n",
       "      <th>Loan Term Num</th>\n",
       "      <th>Remaining Loan Term</th>\n",
       "      <th>Remaning Loan after Debt</th>\n",
       "      <th>is Debt Last</th>\n",
       "      <th>0</th>\n",
       "      <th>1</th>\n",
       "    </tr>\n",
       "  </thead>\n",
       "  <tbody>\n",
       "    <tr>\n",
       "      <th>0</th>\n",
       "      <td>Own Home/Rent</td>\n",
       "      <td>44.653475</td>\n",
       "      <td>10+ years</td>\n",
       "      <td>0.0</td>\n",
       "      <td>11.0</td>\n",
       "      <td>26.3</td>\n",
       "      <td>3.443328e+06</td>\n",
       "      <td>1.0</td>\n",
       "      <td>other</td>\n",
       "      <td>0</td>\n",
       "      <td>...</td>\n",
       "      <td>1061.194007</td>\n",
       "      <td>130925.034098</td>\n",
       "      <td>2.904167e-07</td>\n",
       "      <td>0.013762</td>\n",
       "      <td>435.093303</td>\n",
       "      <td>5.987617</td>\n",
       "      <td>39472.0</td>\n",
       "      <td>0.0</td>\n",
       "      <td>1</td>\n",
       "      <td>0</td>\n",
       "    </tr>\n",
       "    <tr>\n",
       "      <th>1</th>\n",
       "      <td>Own Home/Rent</td>\n",
       "      <td>44.653475</td>\n",
       "      <td>10+ years</td>\n",
       "      <td>0.0</td>\n",
       "      <td>15.0</td>\n",
       "      <td>15.3</td>\n",
       "      <td>1.181730e+06</td>\n",
       "      <td>0.0</td>\n",
       "      <td>other</td>\n",
       "      <td>1</td>\n",
       "      <td>...</td>\n",
       "      <td>8845.269054</td>\n",
       "      <td>17318.169935</td>\n",
       "      <td>0.000000e+00</td>\n",
       "      <td>1.490640</td>\n",
       "      <td>14.421597</td>\n",
       "      <td>21.497415</td>\n",
       "      <td>376599.0</td>\n",
       "      <td>0.0</td>\n",
       "      <td>0</td>\n",
       "      <td>1</td>\n",
       "    </tr>\n",
       "    <tr>\n",
       "      <th>2</th>\n",
       "      <td>Home Mortgage</td>\n",
       "      <td>44.653475</td>\n",
       "      <td>8 years</td>\n",
       "      <td>0.0</td>\n",
       "      <td>11.0</td>\n",
       "      <td>35.0</td>\n",
       "      <td>3.443328e+06</td>\n",
       "      <td>0.0</td>\n",
       "      <td>other</td>\n",
       "      <td>0</td>\n",
       "      <td>...</td>\n",
       "      <td>6906.271023</td>\n",
       "      <td>98380.811336</td>\n",
       "      <td>0.000000e+00</td>\n",
       "      <td>0.089561</td>\n",
       "      <td>252.240011</td>\n",
       "      <td>22.590946</td>\n",
       "      <td>294738.0</td>\n",
       "      <td>0.0</td>\n",
       "      <td>1</td>\n",
       "      <td>0</td>\n",
       "    </tr>\n",
       "    <tr>\n",
       "      <th>3</th>\n",
       "      <td>Own Home/Rent</td>\n",
       "      <td>44.653475</td>\n",
       "      <td>6 years</td>\n",
       "      <td>0.0</td>\n",
       "      <td>8.0</td>\n",
       "      <td>22.5</td>\n",
       "      <td>1.474000e+05</td>\n",
       "      <td>1.0</td>\n",
       "      <td>other</td>\n",
       "      <td>0</td>\n",
       "      <td>...</td>\n",
       "      <td>2146.641446</td>\n",
       "      <td>5395.377778</td>\n",
       "      <td>6.784261e-06</td>\n",
       "      <td>0.789606</td>\n",
       "      <td>10.707003</td>\n",
       "      <td>8.454313</td>\n",
       "      <td>84517.0</td>\n",
       "      <td>0.0</td>\n",
       "      <td>1</td>\n",
       "      <td>0</td>\n",
       "    </tr>\n",
       "    <tr>\n",
       "      <th>4</th>\n",
       "      <td>Own Home/Rent</td>\n",
       "      <td>44.653475</td>\n",
       "      <td>8 years</td>\n",
       "      <td>0.0</td>\n",
       "      <td>13.0</td>\n",
       "      <td>13.6</td>\n",
       "      <td>3.858360e+05</td>\n",
       "      <td>1.0</td>\n",
       "      <td>other</td>\n",
       "      <td>0</td>\n",
       "      <td>...</td>\n",
       "      <td>2089.624607</td>\n",
       "      <td>9252.941176</td>\n",
       "      <td>2.591775e-06</td>\n",
       "      <td>0.741489</td>\n",
       "      <td>17.526462</td>\n",
       "      <td>12.995682</td>\n",
       "      <td>86129.0</td>\n",
       "      <td>0.0</td>\n",
       "      <td>1</td>\n",
       "      <td>0</td>\n",
       "    </tr>\n",
       "  </tbody>\n",
       "</table>\n",
       "<p>5 rows × 37 columns</p>\n",
       "</div>"
      ],
      "text/plain": [
       "  Home Ownership  Annual Income Years in current job  Tax Liens  \\\n",
       "0  Own Home/Rent      44.653475            10+ years        0.0   \n",
       "1  Own Home/Rent      44.653475            10+ years        0.0   \n",
       "2  Home Mortgage      44.653475              8 years        0.0   \n",
       "3  Own Home/Rent      44.653475              6 years        0.0   \n",
       "4  Own Home/Rent      44.653475              8 years        0.0   \n",
       "\n",
       "   Number of Open Accounts  Years of Credit History  Maximum Open Credit  \\\n",
       "0                     11.0                     26.3         3.443328e+06   \n",
       "1                     15.0                     15.3         1.181730e+06   \n",
       "2                     11.0                     35.0         3.443328e+06   \n",
       "3                      8.0                     22.5         1.474000e+05   \n",
       "4                     13.0                     13.6         3.858360e+05   \n",
       "\n",
       "   Number of Credit Problems Purpose  Term  ...  \\\n",
       "0                        1.0   other     0  ...   \n",
       "1                        0.0   other     1  ...   \n",
       "2                        0.0   other     0  ...   \n",
       "3                        1.0   other     0  ...   \n",
       "4                        1.0   other     0  ...   \n",
       "\n",
       "   ratio_Current Credit Balance_to_income  Ratio Current to Max Loan  \\\n",
       "0                             1061.194007              130925.034098   \n",
       "1                             8845.269054               17318.169935   \n",
       "2                             6906.271023               98380.811336   \n",
       "3                             2146.641446                5395.377778   \n",
       "4                             2089.624607                9252.941176   \n",
       "\n",
       "   Ratio Problems to CreditHistory  Ratio Credit Balance to Loan Amount  \\\n",
       "0                     2.904167e-07                             0.013762   \n",
       "1                     0.000000e+00                             1.490640   \n",
       "2                     0.000000e+00                             0.089561   \n",
       "3                     6.784261e-06                             0.789606   \n",
       "4                     2.591775e-06                             0.741489   \n",
       "\n",
       "   Loan Term Num  Remaining Loan Term  Remaning Loan after Debt  is Debt Last  \\\n",
       "0     435.093303             5.987617                   39472.0           0.0   \n",
       "1      14.421597            21.497415                  376599.0           0.0   \n",
       "2     252.240011            22.590946                  294738.0           0.0   \n",
       "3      10.707003             8.454313                   84517.0           0.0   \n",
       "4      17.526462            12.995682                   86129.0           0.0   \n",
       "\n",
       "   0  1  \n",
       "0  1  0  \n",
       "1  0  1  \n",
       "2  1  0  \n",
       "3  1  0  \n",
       "4  1  0  \n",
       "\n",
       "[5 rows x 37 columns]"
      ]
     },
     "execution_count": 76,
     "metadata": {},
     "output_type": "execute_result"
    }
   ],
   "source": [
    "y_onehot = pd.get_dummies(df['Credit Default'])\n",
    "temp_df = pd.concat([df, y_onehot], axis=1)\n",
    "temp_df.head()"
   ]
  },
  {
   "cell_type": "code",
   "execution_count": 77,
   "metadata": {},
   "outputs": [
    {
     "name": "stdout",
     "output_type": "stream",
     "text": [
      "   Number of Credit Problems         0\n",
      "0                        0.0  0.719431\n",
      "1                        1.0  0.726757\n",
      "2                        2.0  0.645161\n",
      "3                        3.0  0.600000\n",
      "4                        4.0  0.333333\n",
      "5                        5.0  0.428571\n",
      "6                        6.0  1.000000\n",
      "7                        7.0  1.000000\n",
      "   Number of Credit Problems         1\n",
      "0                        0.0  0.280569\n",
      "1                        1.0  0.273243\n",
      "2                        2.0  0.354839\n",
      "3                        3.0  0.400000\n",
      "4                        4.0  0.666667\n",
      "5                        5.0  0.571429\n",
      "6                        6.0  0.000000\n",
      "7                        7.0  0.000000\n"
     ]
    }
   ],
   "source": [
    "for label in y_onehot.columns:    \n",
    "    temp = temp_df.groupby('Number of Credit Problems', as_index=False).agg({label: 'mean'})\n",
    "    print(temp)\n",
    "    temp.columns = ['Number of Credit Problems', f'Credit Default {label}']\n",
    "    df = df.merge(temp, on='Number of Credit Problems', how='left')\n",
    "    df_test = df_test.merge(temp, on='Number of Credit Problems', how='left')\n",
    "df_test.loc[df_test['Number of Credit Problems']>7, ['Credit Default 0', 'Credit Default 1']] = [0, 1]"
   ]
  },
  {
   "cell_type": "markdown",
   "metadata": {},
   "source": [
    "### Dummies\n",
    "Используем метод _get_dummies_ для признаков **Home Ownership** & **Purpose**"
   ]
  },
  {
   "cell_type": "code",
   "execution_count": 78,
   "metadata": {},
   "outputs": [],
   "source": [
    "df = pd.concat([df, pd.get_dummies(df['Home Ownership'])], axis=1)\n",
    "df_test = pd.concat([df_test, pd.get_dummies(df_test['Home Ownership'])], axis=1)"
   ]
  },
  {
   "cell_type": "code",
   "execution_count": 79,
   "metadata": {},
   "outputs": [],
   "source": [
    "df = pd.concat([df, pd.get_dummies(df['Purpose'])], axis=1)\n",
    "df_test = pd.concat([df_test, pd.get_dummies(df_test['Purpose'])], axis=1)"
   ]
  },
  {
   "cell_type": "code",
   "execution_count": 80,
   "metadata": {},
   "outputs": [
    {
     "data": {
      "text/plain": [
       "Index(['Home Ownership', 'Annual Income', 'Years in current job', 'Tax Liens',\n",
       "       'Number of Open Accounts', 'Years of Credit History',\n",
       "       'Maximum Open Credit', 'Number of Credit Problems', 'Purpose', 'Term',\n",
       "       'Current Loan Amount', 'Current Credit Balance', 'Monthly Debt',\n",
       "       'Credit Score', 'Credit Default', 'JobYears', '1 year', '10+ years',\n",
       "       '2-3 year', '4-5 year', '6 years', '7 years', '8 years', '9 years',\n",
       "       '< 1 year', 'ratio_Maximum Open Credit_to_income',\n",
       "       'ratio_Current Loan Amount_to_income',\n",
       "       'ratio_Current Credit Balance_to_income', 'Ratio Current to Max Loan',\n",
       "       'Ratio Problems to CreditHistory',\n",
       "       'Ratio Credit Balance to Loan Amount', 'Loan Term Num',\n",
       "       'Remaining Loan Term', 'Remaning Loan after Debt', 'is Debt Last',\n",
       "       'Credit Default 0', 'Credit Default 1', 'Have Mortgage',\n",
       "       'Home Mortgage', 'Own Home/Rent', 'business loan',\n",
       "       'educational expenses', 'major purchase', 'moving', 'other',\n",
       "       'renewable energy', 'small business', 'vacation/wedding'],\n",
       "      dtype='object')"
      ]
     },
     "execution_count": 80,
     "metadata": {},
     "output_type": "execute_result"
    }
   ],
   "source": [
    "df.columns"
   ]
  },
  {
   "cell_type": "code",
   "execution_count": 81,
   "metadata": {},
   "outputs": [
    {
     "name": "stdout",
     "output_type": "stream",
     "text": [
      "Memory usage of dataframe is 1.80 MB\n",
      "Memory usage after optimization is: 0.88 MB\n",
      "Decreased by 51.1%\n",
      "Memory usage of dataframe is 0.58 MB\n",
      "Memory usage after optimization is: 0.27 MB\n",
      "Decreased by 54.2%\n"
     ]
    }
   ],
   "source": [
    "reduce_mem_usage(df)\n",
    "reduce_mem_usage(df_test)"
   ]
  },
  {
   "cell_type": "markdown",
   "metadata": {},
   "source": [
    "## <center>Отбор признаков<a class='anchor' id='feat_choice'></a><center>"
   ]
  },
  {
   "cell_type": "markdown",
   "metadata": {},
   "source": [
    "В ячейке ниже закомментированы признаки, которые либо переобучают модель, либо не прибавляют качества прогноза."
   ]
  },
  {
   "cell_type": "code",
   "execution_count": 95,
   "metadata": {},
   "outputs": [],
   "source": [
    "features = [\n",
    "#             'Home Ownership', \n",
    "            'Have Mortgage', 'Home Mortgage', 'Own Home/Rent',\n",
    "    \n",
    "            'Annual Income', \n",
    "    \n",
    "            'Years in current job', \n",
    "#             '1 year', '10+ years', '2-3 year', '4-5 year', '6 years', '7 years', '8 years', '9 years', '< 1 year',  \n",
    "#             'JobYears', \n",
    "    \n",
    "            'Tax Liens',\n",
    "            'Number of Open Accounts', \n",
    "            'Years of Credit History',\n",
    "            'Maximum Open Credit', \n",
    "            'Number of Credit Problems', \n",
    "    \n",
    "            'Purpose', \n",
    "#             'business loan', 'educational expenses', 'major purchase', 'moving', 'other', 'renewable energy', \n",
    "#             'small business', 'vacation/wedding',\n",
    "    \n",
    "            'Term',    \n",
    "            'Current Loan Amount', \n",
    "            'Current Credit Balance', \n",
    "            'Monthly Debt',\n",
    "            'Credit Score',\n",
    "            'ratio_Maximum Open Credit_to_income', \n",
    "            'ratio_Current Loan Amount_to_income', \n",
    "#             'ratio_Current Credit Balance_to_income',\n",
    "            'Ratio Current to Max Loan',\n",
    "            'Remaning Loan after Debt', \n",
    "            'is Debt Last',\n",
    "            'Ratio Problems to CreditHistory',\n",
    "            'Ratio Credit Balance to Loan Amount', \n",
    "            'Remaining Loan Term',\n",
    "#             'Loan Term Num',\n",
    "            'Credit Default 0', 'Credit Default 1'\n",
    "            ]"
   ]
  },
  {
   "cell_type": "code",
   "execution_count": 96,
   "metadata": {},
   "outputs": [],
   "source": [
    "NUM_FEAT = ['Have Mortgage', 'Home Mortgage', 'Own Home/Rent', 'Annual Income', 'Tax Liens',\n",
    "            'Number of Open Accounts', 'Years of Credit History', 'Maximum Open Credit', \n",
    "            'Number of Credit Problems', 'Term', 'Current Loan Amount', 'Current Credit Balance', \n",
    "            'Monthly Debt', 'Credit Score', 'ratio_Maximum Open Credit_to_income', \n",
    "            'ratio_Current Loan Amount_to_income', 'Ratio Current to Max Loan',\n",
    "            'Remaning Loan after Debt', 'is Debt Last', 'Ratio Problems to CreditHistory',\n",
    "            'Ratio Credit Balance to Loan Amount', 'Remaining Loan Term', 'Credit Default 0', 'Credit Default 1']"
   ]
  },
  {
   "cell_type": "code",
   "execution_count": null,
   "metadata": {},
   "outputs": [],
   "source": [
    "X = df[features]\n",
    "y = df[TARGET]\n",
    "CAT_FEATURE_NAMES = ['Have Mortgage', 'Home Mortgage', 'Own Home/Rent', 'Years in current job', 'Purpose']\n",
    "X_train, X_valid, y_train, y_valid = train_test_split(X, y, test_size=0.33, stratify=y, random_state=42)"
   ]
  },
  {
   "cell_type": "code",
   "execution_count": 84,
   "metadata": {},
   "outputs": [
    {
     "data": {
      "text/plain": [
       "<catboost.core.CatBoostClassifier at 0x202428e5df0>"
      ]
     },
     "execution_count": 84,
     "metadata": {},
     "output_type": "execute_result"
    }
   ],
   "source": [
    "model_catb = catb.CatBoostClassifier(silent=True,\n",
    "                                     cat_features=CAT_FEATURE_NAMES,\n",
    "                                     random_state=21)\n",
    "model_catb.fit(X_train, y_train)"
   ]
  },
  {
   "cell_type": "code",
   "execution_count": 85,
   "metadata": {},
   "outputs": [
    {
     "name": "stdout",
     "output_type": "stream",
     "text": [
      "TRAIN\n",
      "\n",
      "              precision    recall  f1-score   support\n",
      "\n",
      "           0       0.81      0.99      0.89      3609\n",
      "           1       0.94      0.41      0.57      1416\n",
      "\n",
      "    accuracy                           0.83      5025\n",
      "   macro avg       0.88      0.70      0.73      5025\n",
      "weighted avg       0.85      0.83      0.80      5025\n",
      "\n",
      "TEST\n",
      "\n",
      "              precision    recall  f1-score   support\n",
      "\n",
      "           0       0.74      0.94      0.83      1778\n",
      "           1       0.54      0.17      0.26       697\n",
      "\n",
      "    accuracy                           0.73      2475\n",
      "   macro avg       0.64      0.56      0.55      2475\n",
      "weighted avg       0.69      0.73      0.67      2475\n",
      "\n",
      "CONFUSION MATRIX\n",
      "\n",
      "col_0              0    1\n",
      "Credit Default           \n",
      "0               1675  103\n",
      "1                577  120\n"
     ]
    }
   ],
   "source": [
    "evaluate_preds(model_catb, X_train, X_valid, y_train, y_valid)"
   ]
  },
  {
   "cell_type": "markdown",
   "metadata": {},
   "source": [
    "Признаки выбраны, но остаётся проблема с переобучением на первом классе. _58_ на **train** против _25_ на **test**. Нулевой класс выглядит адекватно."
   ]
  },
  {
   "cell_type": "markdown",
   "metadata": {},
   "source": [
    "### Дисбаланс\n",
    "Избавимся от дисбаланса классов с помощью штрафов модели. Возможно увеличение качества и уменьшение переобучения."
   ]
  },
  {
   "cell_type": "code",
   "execution_count": 86,
   "metadata": {},
   "outputs": [
    {
     "data": {
      "text/plain": [
       "2.549455750118315"
      ]
     },
     "execution_count": 86,
     "metadata": {},
     "output_type": "execute_result"
    }
   ],
   "source": [
    "disbalance = df[TARGET].value_counts()[0] / df[TARGET].value_counts()[1]\n",
    "disbalance"
   ]
  },
  {
   "cell_type": "code",
   "execution_count": 97,
   "metadata": {},
   "outputs": [
    {
     "data": {
      "text/plain": [
       "1    3609\n",
       "0    3609\n",
       "Name: Credit Default, dtype: int64"
      ]
     },
     "execution_count": 97,
     "metadata": {},
     "output_type": "execute_result"
    }
   ],
   "source": [
    "df_balanced = pd.concat([X_train[NUM_FEAT], y_train], axis=1)\n",
    "df_balanced = balance_df_by_target(df_balanced, TARGET, method='smote')\n",
    "df_balanced[TARGET].value_counts()"
   ]
  },
  {
   "cell_type": "code",
   "execution_count": 99,
   "metadata": {},
   "outputs": [],
   "source": [
    "X_train_balanced = df_balanced.drop(columns=TARGET)\n",
    "y_train_balanced = df_balanced[TARGET]"
   ]
  },
  {
   "cell_type": "markdown",
   "metadata": {},
   "source": [
    "## <center>Выбор наилучшей модели и настройка гиперпараметров<a class='anchor' id='settings'></a><center>"
   ]
  },
  {
   "cell_type": "markdown",
   "metadata": {},
   "source": [
    "### LogisticRegression"
   ]
  },
  {
   "cell_type": "code",
   "execution_count": 118,
   "metadata": {},
   "outputs": [
    {
     "name": "stdout",
     "output_type": "stream",
     "text": [
      "TRAIN\n",
      "\n",
      "              precision    recall  f1-score   support\n",
      "\n",
      "           0       0.50      1.00      0.67      3609\n",
      "           1       0.00      0.00      0.00      3609\n",
      "\n",
      "    accuracy                           0.50      7218\n",
      "   macro avg       0.25      0.50      0.33      7218\n",
      "weighted avg       0.25      0.50      0.33      7218\n",
      "\n",
      "TEST\n",
      "\n",
      "              precision    recall  f1-score   support\n",
      "\n",
      "           0       0.78      0.75      0.76      1778\n",
      "           1       0.42      0.48      0.45       697\n",
      "\n",
      "    accuracy                           0.67      2475\n",
      "   macro avg       0.60      0.61      0.61      2475\n",
      "weighted avg       0.68      0.67      0.68      2475\n",
      "\n",
      "CONFUSION MATRIX\n",
      "\n",
      "col_0              0    1\n",
      "Credit Default           \n",
      "0               1326  452\n",
      "1                365  332\n"
     ]
    }
   ],
   "source": [
    "model_lr = LogisticRegression(C=0.01, max_iter=7)\n",
    "scaler = MinMaxScaler()\n",
    "\n",
    "X_train_balanced_scaled = scaler.fit_transform(X_train_balanced)\n",
    "X_num_valid_scaled = scaler.transform(X_valid[NUM_FEAT])\n",
    "\n",
    "model_lr = model_lr.fit(X_train_balanced_scaled, y_train_balanced)\n",
    "\n",
    "evaluate_preds(model_lr, X_train_balanced, X_num_valid_scaled, y_train_balanced, y_valid)"
   ]
  },
  {
   "cell_type": "code",
   "execution_count": null,
   "metadata": {},
   "outputs": [],
   "source": []
  },
  {
   "cell_type": "markdown",
   "metadata": {},
   "source": [
    "Все работы проведены, в качестве конечной модели выбрана **CatBoost**. Далее настроим гиперпараметры."
   ]
  },
  {
   "cell_type": "code",
   "execution_count": null,
   "metadata": {},
   "outputs": [],
   "source": [
    "frozen_params = {\n",
    "     'class_weights':[1, disbalance], \n",
    "     'silent':True,\n",
    "     'random_state':21,\n",
    "     'cat_features':CAT_FEATURE_NAMES,\n",
    "     'eval_metric':'F1',\n",
    "     'early_stopping_rounds':20\n",
    "}"
   ]
  },
  {
   "cell_type": "code",
   "execution_count": null,
   "metadata": {},
   "outputs": [],
   "source": [
    "model_catb = catb.CatBoostClassifier(**frozen_params,\n",
    "                                    iterations=300,\n",
    "                                    max_depth=3)\n",
    "model_catb.fit(X_train, y_train)\n",
    "evaluate_preds(model_catb, X_train, X_valid, y_train, y_valid)"
   ]
  },
  {
   "cell_type": "code",
   "execution_count": null,
   "metadata": {
    "scrolled": false
   },
   "outputs": [],
   "source": [
    "model_catb = catb.CatBoostClassifier(**frozen_params,\n",
    "                                    iterations=100,\n",
    "                                    max_depth=3,\n",
    "                                    reg_lambda=0.2)\n",
    "model_catb.fit(X_train, y_train)\n",
    "evaluate_preds(model_catb, X_train, X_valid, y_train, y_valid)"
   ]
  },
  {
   "cell_type": "code",
   "execution_count": null,
   "metadata": {},
   "outputs": [],
   "source": [
    "params = {\n",
    "    'reg_lambda': np.linspace(0.1, 3, 20)\n",
    "}\n",
    "model_catb = catb.CatBoostClassifier(**frozen_params,\n",
    "                                    iterations=100,\n",
    "                                    max_depth=3)"
   ]
  },
  {
   "cell_type": "code",
   "execution_count": null,
   "metadata": {},
   "outputs": [],
   "source": [
    "cv = StratifiedKFold(n_splits=3, random_state=21, shuffle=True)"
   ]
  },
  {
   "cell_type": "code",
   "execution_count": null,
   "metadata": {},
   "outputs": [],
   "source": [
    "grid_search = model_catb.randomized_search(params, X_train, y_train, n_iter=50, \n",
    "                                           cv=cv, stratified=True, plot=True, refit=True)"
   ]
  },
  {
   "cell_type": "code",
   "execution_count": null,
   "metadata": {},
   "outputs": [],
   "source": [
    "grid_search"
   ]
  },
  {
   "cell_type": "code",
   "execution_count": null,
   "metadata": {},
   "outputs": [],
   "source": [
    "evaluate_preds(model_catb, X_train, X_valid, y_train, y_valid)"
   ]
  },
  {
   "cell_type": "code",
   "execution_count": null,
   "metadata": {},
   "outputs": [],
   "source": [
    "show_learning_curve_plot(model_catb, X, y)"
   ]
  },
  {
   "cell_type": "code",
   "execution_count": null,
   "metadata": {},
   "outputs": [],
   "source": [
    "MODEL_FILE_PATH = './Models/model.pkl'"
   ]
  },
  {
   "cell_type": "code",
   "execution_count": null,
   "metadata": {},
   "outputs": [],
   "source": [
    "X_train, X_valid, y_train, y_valid = train_test_split(X, y, test_size=0.33, stratify=y, random_state=42)"
   ]
  },
  {
   "cell_type": "code",
   "execution_count": null,
   "metadata": {},
   "outputs": [],
   "source": [
    "model_catb = catb.CatBoostClassifier(**frozen_params,\n",
    "                                    iterations=100,\n",
    "                                    max_depth=3,\n",
    "                                    reg_lambda=0.2)\n",
    "model_catb.fit(X_train, y_train)\n",
    "evaluate_preds(model_catb, X_train, X_valid, y_train, y_valid)"
   ]
  },
  {
   "cell_type": "code",
   "execution_count": null,
   "metadata": {},
   "outputs": [],
   "source": [
    "with open(MODEL_FILE_PATH, 'wb') as file:\n",
    "    pickle.dump(model_catb, file)"
   ]
  },
  {
   "cell_type": "code",
   "execution_count": null,
   "metadata": {},
   "outputs": [],
   "source": [
    "target_predict = pd.DataFrame(model_catb.predict(df_test[features]), columns=['Credit Default'])\n",
    "target_predict.head()"
   ]
  },
  {
   "cell_type": "code",
   "execution_count": null,
   "metadata": {},
   "outputs": [],
   "source": [
    "target_predict.to_csv('catb_predictions.csv', index_label='Id', encoding='utf-8', sep=',')"
   ]
  },
  {
   "cell_type": "code",
   "execution_count": null,
   "metadata": {},
   "outputs": [],
   "source": [
    "check = pd.read_csv('sample_submission.csv')"
   ]
  },
  {
   "cell_type": "code",
   "execution_count": null,
   "metadata": {},
   "outputs": [],
   "source": [
    "check.head()"
   ]
  },
  {
   "cell_type": "code",
   "execution_count": null,
   "metadata": {},
   "outputs": [],
   "source": [
    "check_me = pd.read_csv('catb_predictions.csv')"
   ]
  },
  {
   "cell_type": "code",
   "execution_count": null,
   "metadata": {},
   "outputs": [],
   "source": [
    "check_me.head()"
   ]
  }
 ],
 "metadata": {
  "kernelspec": {
   "display_name": "Python 3",
   "language": "python",
   "name": "python3"
  },
  "language_info": {
   "codemirror_mode": {
    "name": "ipython",
    "version": 3
   },
   "file_extension": ".py",
   "mimetype": "text/x-python",
   "name": "python",
   "nbconvert_exporter": "python",
   "pygments_lexer": "ipython3",
   "version": "3.8.5"
  }
 },
 "nbformat": 4,
 "nbformat_minor": 4
}
